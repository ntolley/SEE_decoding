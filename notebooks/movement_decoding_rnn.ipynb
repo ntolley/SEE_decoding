{
 "cells": [
  {
   "cell_type": "code",
   "execution_count": 1,
   "metadata": {},
   "outputs": [
    {
     "name": "stdout",
     "output_type": "stream",
     "text": [
      "\n",
      "WARNING: Xgboost package is not installed. You will be unable to use the xgboost decoder\n",
      "\n",
      "WARNING: Keras package is not installed. You will be unable to use all neural net decoders\n"
     ]
    }
   ],
   "source": [
    "import sys\n",
    "sys.path.append('../code/') \n",
    "import mocap_functions\n",
    "import numpy as np\n",
    "import pandas as pd\n",
    "import neo\n",
    "import matplotlib.pyplot as plt\n",
    "import scipy.io as sio\n",
    "from scipy import signal\n",
    "from scipy.interpolate import interp1d\n",
    "import spike_train_functions\n",
    "import elephant\n",
    "import quantities as pq\n",
    "# import h5py\n",
    "from sklearn.model_selection import ShuffleSplit\n",
    "from sklearn.linear_model import LinearRegression\n",
    "from sklearn.decomposition import PCA\n",
    "from sklearn.preprocessing import StandardScaler\n",
    "import torch\n",
    "from torch import nn\n",
    "import torch.nn.functional as F\n",
    "from joblib import Parallel, delayed\n",
    "import multiprocessing\n",
    "import Neural_Decoding\n",
    "import pickle\n",
    "import seaborn as sns\n",
    "#sns.set()\n",
    "#sns.set_style(\"white\")\n",
    "\n",
    "num_cores = multiprocessing.cpu_count()\n",
    "scaler = StandardScaler()\n",
    "\n",
    "# CUDA for PyTorch\n",
    "use_cuda = torch.cuda.is_available()\n",
    "device = torch.device(\"cuda:0\")\n",
    "#device = torch.device('cpu')\n",
    "\n",
    "torch.backends.cudnn.benchmark = True"
   ]
  },
  {
   "cell_type": "code",
   "execution_count": 2,
   "metadata": {},
   "outputs": [],
   "source": [
    "kinematic_df, neural_df, metadata = mocap_functions.load_mocap_df('../data/SPK20220308/task_data/')\n",
    "num_trials = metadata['num_trials']\n",
    "\n",
    "#Generate cv_dict for regular train/test/validate split (no rolling window)\n",
    "cv_split = ShuffleSplit(n_splits=5, test_size=.25, random_state=0)\n",
    "val_split = ShuffleSplit(n_splits=1, test_size=.25, random_state=0)\n",
    "cv_dict = {}\n",
    "for fold, (train_val_idx, test_idx) in enumerate(cv_split.split(np.arange(num_trials))):\n",
    "    for t_idx, v_idx in val_split.split(train_val_idx): #No looping, just used to split train/validation sets\n",
    "        cv_dict[fold] = {'train_idx':train_val_idx[t_idx], \n",
    "                         'test_idx':test_idx, \n",
    "                         'validation_idx':train_val_idx[v_idx]} "
   ]
  },
  {
   "cell_type": "code",
   "execution_count": 3,
   "metadata": {},
   "outputs": [],
   "source": [
    "# Filter dataframes add or remove layout info\n",
    "nolayout_mask = ~(kinematic_df['name'].str.contains(pat='layout'))\n",
    "kinematic_df = kinematic_df[nolayout_mask]\n",
    "\n",
    "nolayout_neural_df = neural_df[neural_df['unit'] >= 0]\n",
    "\n"
   ]
  },
  {
   "cell_type": "code",
   "execution_count": null,
   "metadata": {},
   "outputs": [],
   "source": []
  },
  {
   "cell_type": "code",
   "execution_count": 4,
   "metadata": {},
   "outputs": [],
   "source": [
    "def make_generators(pred_df, neural_df, neural_offset):\n",
    "    sampling_rate = 100\n",
    "    kernel_offset = int(metadata['kernel_halfwidth'] * sampling_rate)  #Convolution kernel centered at zero, add to neural offset\n",
    "    offset = neural_offset + kernel_offset\n",
    "    window_size = 10\n",
    "    data_step_size = 1\n",
    "\n",
    "    # Set up PyTorch Dataloaders\n",
    "    fold=0\n",
    "    kinematic_type = 'posData'\n",
    "    # Parameters\n",
    "    batch_size = 10000\n",
    "    train_params = {'batch_size': batch_size, 'shuffle': True, 'num_workers': num_cores, 'pin_memory':False}\n",
    "    train_eval_params = {'batch_size': batch_size, 'shuffle': False, 'num_workers': num_cores, 'pin_memory':False}\n",
    "    validation_params = {'batch_size': batch_size, 'shuffle': True, 'num_workers': num_cores, 'pin_memory':False}\n",
    "    test_params = {'batch_size': batch_size, 'shuffle': False, 'num_workers': num_cores, 'pin_memory':False}\n",
    "\n",
    "    predict_kinematics=True\n",
    "    # Generators\n",
    "    training_set = mocap_functions.SEE_Dataset(cv_dict, fold, 'train_idx', pred_df, neural_df, offset, window_size, \n",
    "                                                data_step_size, device, 'posData', True, predict_kinematics)\n",
    "    training_generator = torch.utils.data.DataLoader(training_set, **train_params)\n",
    "    training_eval_generator = torch.utils.data.DataLoader(training_set, **train_eval_params)\n",
    "    X_train_data = training_set[:][0][:,-1,:].detach().cpu().numpy()\n",
    "    y_train_data = training_set[:][1][:,-1,:].detach().cpu().numpy()\n",
    "\n",
    "    validation_set = mocap_functions.SEE_Dataset(cv_dict, fold, 'validation_idx', pred_df, neural_df, offset, window_size, \n",
    "                                                    data_step_size, device, 'posData', True, predict_kinematics)\n",
    "    validation_generator = torch.utils.data.DataLoader(validation_set, **validation_params)\n",
    "\n",
    "    testing_set = mocap_functions.SEE_Dataset(cv_dict, fold, 'test_idx', pred_df, neural_df, offset, window_size, \n",
    "                                                    data_step_size, device, 'posData', True, predict_kinematics)\n",
    "    testing_generator = torch.utils.data.DataLoader(testing_set, **test_params)\n",
    "    X_test_data = testing_set[:][0][:,-1,:].detach().cpu().numpy()\n",
    "    y_test_data = testing_set[:][1][:,-1,:].detach().cpu().numpy()\n",
    "\n",
    "    data_arrays = (training_set, validation_set, testing_set)\n",
    "    generators = (training_generator, training_eval_generator, validation_generator, testing_generator)\n",
    "\n",
    "    return data_arrays, generators "
   ]
  },
  {
   "cell_type": "code",
   "execution_count": null,
   "metadata": {},
   "outputs": [],
   "source": []
  },
  {
   "cell_type": "code",
   "execution_count": null,
   "metadata": {},
   "outputs": [],
   "source": []
  },
  {
   "cell_type": "markdown",
   "metadata": {},
   "source": [
    "### Use function to create train/test sets with each data frame"
   ]
  },
  {
   "cell_type": "code",
   "execution_count": 5,
   "metadata": {},
   "outputs": [],
   "source": [
    "def run_wiener(pred_df, neural_df, neural_offset):\n",
    "    data_arrays, generators = make_generators(pred_df, neural_df, neural_offset)\n",
    "\n",
    "  # Unpack tuple into variables\n",
    "    training_set, validation_set, testing_set = data_arrays\n",
    "    training_generator, training_eval_generator, validation_generator, testing_generator = generators\n",
    "\n",
    "    X_train_data = training_set[:][0][:,-1,:].detach().cpu().numpy()\n",
    "    y_train_data = training_set[:][1][:,-1,:].detach().cpu().numpy()\n",
    "\n",
    "    X_test_data = testing_set[:][0][:,-1,:].detach().cpu().numpy()\n",
    "    y_test_data = testing_set[:][1][:,-1,:].detach().cpu().numpy()\n",
    "\n",
    "    #Fit and run wiener filter\n",
    "    model_wr = Neural_Decoding.decoders.WienerFilterDecoder() \n",
    "    model_wr.fit(X_train_data,y_train_data)\n",
    "\n",
    "    wr_train_pred = model_wr.predict(X_train_data)\n",
    "    wr_test_pred = model_wr.predict(X_test_data)\n",
    "\n",
    "    #Compute decoding\n",
    "    wr_train_corr = mocap_functions.matrix_corr(wr_train_pred,y_train_data)\n",
    "    wr_test_corr = mocap_functions.matrix_corr(wr_test_pred,y_test_data)\n",
    "\n",
    "    return wr_train_pred, wr_test_pred, wr_train_corr, wr_test_corr\n",
    "\n",
    "def run_rnn(pred_df, neural_df, neural_offset):\n",
    "    data_arrays, generators = make_generators(pred_df, neural_df, neural_offset)\n",
    "    \n",
    "    # Unpack tuple into variables\n",
    "    training_set, validation_set, testing_set = data_arrays\n",
    "    training_generator, training_eval_generator, validation_generator, testing_generator = generators\n",
    "\n",
    "    X_train_data = training_set[:][0][:,-1,:].detach().cpu().numpy()\n",
    "    y_train_data = training_set[:][1][:,-1,:].detach().cpu().numpy()\n",
    "\n",
    "    X_test_data = testing_set[:][0][:,-1,:].detach().cpu().numpy()\n",
    "    y_test_data = testing_set[:][1][:,-1,:].detach().cpu().numpy()\n",
    "\n",
    "    #Define hyperparameters\n",
    "    lr = 1e-3\n",
    "    weight_decay = 1e-5\n",
    "    hidden_dim = 50\n",
    "    dropout = 0.1\n",
    "    n_layers = 2\n",
    "    max_epochs = 1000\n",
    "    input_size = training_set[0][0].shape[1] \n",
    "    output_size = training_set[0][1].shape[1] \n",
    "\n",
    "\n",
    "    model_rnn = mocap_functions.model_gru(input_size, output_size, hidden_dim, n_layers, dropout, device).to(device)\n",
    "    # Define Loss, Optimizerints h\n",
    "    criterion = nn.MSELoss()\n",
    "    optimizer = torch.optim.Adam(model_rnn.parameters(), lr=lr, weight_decay=weight_decay)\n",
    "\n",
    "    #Train model\n",
    "    loss_dict = mocap_functions.train_validate_model(model_rnn, optimizer, criterion, max_epochs, training_generator, validation_generator, device, 10, 5)\n",
    "\n",
    "    #Evaluate trained model\n",
    "    rnn_train_pred = mocap_functions.evaluate_model(model_rnn, training_eval_generator, device)\n",
    "    rnn_test_pred = mocap_functions.evaluate_model(model_rnn, testing_generator, device)\n",
    "\n",
    "    #Evaluate trained model\n",
    "    rnn_train_pred = mocap_functions.evaluate_model(model_rnn, training_eval_generator, device)\n",
    "    rnn_test_pred = mocap_functions.evaluate_model(model_rnn, testing_generator, device)\n",
    "\n",
    "    rnn_train_corr = mocap_functions.matrix_corr(rnn_train_pred, y_train_data)\n",
    "    rnn_test_corr = mocap_functions.matrix_corr(rnn_test_pred, y_test_data)\n",
    "\n",
    "    return rnn_train_pred, rnn_test_pred, rnn_train_corr, rnn_test_corr\n",
    "    "
   ]
  },
  {
   "cell_type": "markdown",
   "metadata": {},
   "source": [
    "### Generate decoding results"
   ]
  },
  {
   "cell_type": "code",
   "execution_count": 6,
   "metadata": {},
   "outputs": [
    {
     "name": "stdout",
     "output_type": "stream",
     "text": [
      "*********.\n",
      "Epoch: 10/1000 ... Train Loss: 0.7682  ... Validation Loss: 0.7776\n",
      "...**.....\n",
      "Epoch: 20/1000 ... Train Loss: 0.7385  ... Validation Loss: 0.7654\n",
      "*...*.*...\n",
      "Epoch: 30/1000 ... Train Loss: 0.7209  ... Validation Loss: 0.7587\n",
      "... Early Stop; Min Epoch: 27\n",
      "**********\n",
      "Epoch: 10/1000 ... Train Loss: 0.7678  ... Validation Loss: 0.7804\n",
      ".*.*.*..*.\n",
      "Epoch: 20/1000 ... Train Loss: 0.7390  ... Validation Loss: 0.7657\n",
      ".*.*.*.*..\n",
      "Epoch: 30/1000 ... Train Loss: 0.7195  ... Validation Loss: 0.7600\n",
      ".... Early Stop; Min Epoch: 28\n"
     ]
    }
   ],
   "source": [
    "func_dict = {'wiener': run_wiener, 'rnn': run_rnn}\n",
    "df_dict = {'layout': neural_df, 'nolayout': nolayout_neural_df}\n",
    "decode_results = dict()\n",
    "for func_name, func in func_dict.items():\n",
    "    decode_results[func_name] = dict()\n",
    "    for df_type, pred_df in df_dict.items():\n",
    "        train_pred, test_pred, train_corr, test_corr = func(kinematic_df, pred_df, neural_offset=20)\n",
    "\n",
    "        decode_results[func_name][df_type] = {\n",
    "            'train_pred': train_pred,\n",
    "            'test_pred': test_pred,\n",
    "            'train_corr': train_corr,\n",
    "            'test_corr': test_corr\n",
    "        }\n",
    "\n"
   ]
  },
  {
   "cell_type": "code",
   "execution_count": null,
   "metadata": {},
   "outputs": [],
   "source": []
  },
  {
   "cell_type": "code",
   "execution_count": null,
   "metadata": {},
   "outputs": [],
   "source": []
  },
  {
   "cell_type": "code",
   "execution_count": 11,
   "metadata": {},
   "outputs": [
    {
     "data": {
      "text/plain": [
       "(-0.05, 0.9)"
      ]
     },
     "execution_count": 11,
     "metadata": {},
     "output_type": "execute_result"
    },
    {
     "data": {
      "image/png": "[encoded data removed]",
      "text/plain": [
       "<Figure size 504x432 with 1 Axes>"
      ]
     },
     "metadata": {
      "needs_background": "light"
     },
     "output_type": "display_data"
    }
   ],
   "source": [
    "nolayout_test_corr = decode_results['rnn']['nolayout']['test_corr']\n",
    "all_test_corr = decode_results['rnn']['layout']['test_corr']\n",
    "\n",
    "plt.figure(figsize=(7,6))\n",
    "plot_data = np.stack([nolayout_test_corr, all_test_corr])\n",
    "_ = plt.plot(plot_data, color='k', linewidth=2, alpha=0.8)\n",
    "plt.xticks([0, 1], labels=['No Layout', 'Layout'], fontsize=16)\n",
    "plt.ylabel('Correlation', fontsize=16)\n",
    "plt.violinplot(nolayout_test_corr, positions=[0], showmeans=False,showextrema=False)\n",
    "plt.violinplot(all_test_corr, positions=[1], showmeans=False,showextrema=False)\n",
    "plt.title('One-Hot Layout Encoding', fontsize=16)\n",
    "plt.ylim([-0.05,0.9])"
   ]
  },
  {
   "cell_type": "code",
   "execution_count": null,
   "metadata": {},
   "outputs": [],
   "source": []
  },
  {
   "cell_type": "code",
   "execution_count": null,
   "metadata": {},
   "outputs": [],
   "source": [
    "plt.figure(figsize=(14,6))\n",
    "plt.subplot(1,2,1)\n",
    "plot_data = np.stack([proxjoint_test_corr, all_test_corr, finger_test_corr])\n",
    "_ = plt.plot(plot_data, color='k', linewidth=2, alpha=0.8)\n",
    "plt.xticks([0, 1, 2], labels=['ProxJoint', 'Combined', 'Finger'], fontsize=16)\n",
    "plt.ylabel('Correlation', fontsize=16)\n",
    "plt.violinplot(proxjoint_test_corr, positions=[0], showmeans=False,showextrema=False)\n",
    "plt.violinplot(all_test_corr, positions=[1], showmeans=False,showextrema=False)\n",
    "plt.violinplot(finger_test_corr, positions=[2], showmeans=False,showextrema=False)\n",
    "plt.title('ProxJoint/Finger vs. Combined', fontsize=16)\n",
    "plt.ylim([-0.05,0.9])\n",
    "\n",
    "plt.subplot(1,2,2)\n",
    "plot_data = np.stack([finger_proxjoint_test_corr, all_test_corr, eyes_test_corr])\n",
    "_ = plt.plot(plot_data, color='k', linewidth=2, alpha=0.8)\n",
    "plt.xticks([0, 1, 2], labels=['Finger+ProxJoint', 'Combined', 'Eyes'], fontsize=16)\n",
    "plt.ylabel('Correlation', fontsize=16)\n",
    "plt.violinplot(finger_proxjoint_test_corr, positions=[0], showmeans=False,showextrema=False)\n",
    "plt.violinplot(all_test_corr, positions=[1], showmeans=False,showextrema=False)\n",
    "plt.violinplot(eyes_test_corr, positions=[2], showmeans=False,showextrema=False)\n",
    "plt.title('Finger+ProxJoint/Eyes vs. Combined', fontsize=16)\n",
    "plt.ylim([-0.05,0.9])\n",
    "\n",
    "plt.savefig('single_unit_pred_final.svg')"
   ]
  },
  {
   "cell_type": "code",
   "execution_count": null,
   "metadata": {},
   "outputs": [],
   "source": [
    "compare_data_list = [all_test_pred, eyes_test_pred, finger_test_pred, proxjoint_test_pred]\n",
    "compare_data_names = ['Combined', 'Eyes', 'Fingers', 'Forelimb']\n",
    "\n",
    "data_arrays, generators = make_generators(kinematic_df, neural_df, neural_offset=20)\n",
    "    \n",
    "# Unpack tuple into variables\n",
    "training_set, validation_set, testing_set = data_arrays\n",
    "training_generator, training_eval_generator, validation_generator, testing_generator = generators\n",
    "\n",
    "X_train_data = training_set[:][0][:,-1,:].detach().cpu().numpy()\n",
    "y_train_data = training_set[:][1][:,-1,:].detach().cpu().numpy()\n",
    "\n",
    "X_test_data = testing_set[:][0][:,-1,:].detach().cpu().numpy()\n",
    "y_test_data = testing_set[:][1][:,-1,:].detach().cpu().numpy()\n",
    "\n",
    "#Testing Data\n",
    "plt.figure(figsize=(14,8))\n",
    "bounds = np.arange(0,1500)\n",
    "x_vals = np.arange(len(bounds))/100\n",
    "unit_list = [4, 8, 16]\n",
    "\n",
    "for row_idx, unit_idx in enumerate(unit_list):\n",
    "    for plot_idx, (compare_data, name) in enumerate(zip(compare_data_list, compare_data_names)):\n",
    "        plt.subplot(3,4, plot_idx+1 + (4*row_idx))\n",
    "        plt.plot(x_vals, y_test_data[bounds,unit_idx], color='k')\n",
    "        plt.ylim(plt.ylim())\n",
    "        plt.plot(x_vals, compare_data[bounds,unit_idx], color=f'C{plot_idx + 1}')\n",
    "        plt.title(f'{name}: Unit {unit_idx}')\n",
    "        #plt.ylim([-3, 3.7])\n",
    "        \n",
    "        if plot_idx == 0:\n",
    "            plt.ylabel('Firing Rate (a.u.)')\n",
    "            \n",
    "        if row_idx == 2:\n",
    "            plt.xlabel('Time (s)')\n",
    "        else:\n",
    "            plt.xticks([])\n",
    "\n",
    "    plt.tight_layout()"
   ]
  },
  {
   "cell_type": "code",
   "execution_count": null,
   "metadata": {},
   "outputs": [],
   "source": []
  }
 ],
 "metadata": {
  "kernelspec": {
   "display_name": "Python 3 (ipykernel)",
   "language": "python",
   "name": "python3"
  },
  "language_info": {
   "codemirror_mode": {
    "name": "ipython",
    "version": 3
   },
   "file_extension": ".py",
   "mimetype": "text/x-python",
   "name": "python",
   "nbconvert_exporter": "python",
   "pygments_lexer": "ipython3",
   "version": "3.9.12"
  },
  "vscode": {
   "interpreter": {
    "hash": "0b48ab3240dc41ffa029ce879fa5e087e0a83cbe7a72ef65a19cb71535771faa"
   }
  }
 },
 "nbformat": 4,
 "nbformat_minor": 4
}
