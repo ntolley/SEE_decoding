{
 "cells": [
  {
   "cell_type": "code",
   "execution_count": 1,
   "metadata": {},
   "outputs": [
    {
     "name": "stdout",
     "output_type": "stream",
     "text": [
      "\n",
      "WARNING: Xgboost package is not installed. You will be unable to use the xgboost decoder\n",
      "\n",
      "WARNING: Keras package is not installed. You will be unable to use all neural net decoders\n"
     ]
    }
   ],
   "source": [
    "import sys\n",
    "sys.path.append('../code/') \n",
    "import mocap_functions\n",
    "from functools import partial\n",
    "import numpy as np\n",
    "import pandas as pd\n",
    "import neo\n",
    "import matplotlib.pyplot as plt\n",
    "import scipy.io as sio\n",
    "from scipy import signal\n",
    "from scipy.interpolate import interp1d\n",
    "import spike_train_functions\n",
    "import elephant\n",
    "import quantities as pq\n",
    "# import h5py\n",
    "from sklearn.model_selection import ShuffleSplit\n",
    "from sklearn.linear_model import LinearRegression\n",
    "from sklearn.decomposition import PCA\n",
    "from sklearn.preprocessing import StandardScaler\n",
    "import torch\n",
    "from torch import nn\n",
    "import torch.nn.functional as F\n",
    "from joblib import Parallel, delayed\n",
    "import multiprocessing\n",
    "import Neural_Decoding\n",
    "import pickle\n",
    "import seaborn as sns\n",
    "from hnn_core.utils import smooth_waveform\n",
    "#sns.set()\n",
    "#sns.set_style(\"white\")\n",
    "\n",
    "num_cores = multiprocessing.cpu_count()\n",
    "scaler = StandardScaler()\n",
    "\n",
    "# CUDA for PyTorch\n",
    "use_cuda = torch.cuda.is_available()\n",
    "device = torch.device(\"cuda:0\")\n",
    "#device = torch.device('cpu')\n",
    "\n",
    "torch.backends.cudnn.benchmark = True"
   ]
  },
  {
   "cell_type": "code",
   "execution_count": 2,
   "metadata": {},
   "outputs": [],
   "source": [
    "kinematic_df, neural_df, metadata = mocap_functions.load_mocap_df('../data/SPK20220308/task_data/')\n",
    "num_trials = metadata['num_trials']\n",
    "\n",
    "#Generate cv_dict for regular train/test/validate split (no rolling window)\n",
    "cv_split = ShuffleSplit(n_splits=5, test_size=.25, random_state=0)\n",
    "val_split = ShuffleSplit(n_splits=1, test_size=.25, random_state=0)\n",
    "cv_dict = {}\n",
    "for fold, (train_val_idx, test_idx) in enumerate(cv_split.split(np.arange(num_trials))):\n",
    "    for t_idx, v_idx in val_split.split(train_val_idx): #No looping, just used to split train/validation sets\n",
    "        cv_dict[fold] = {'train_idx':train_val_idx[t_idx], \n",
    "                         'test_idx':test_idx, \n",
    "                         'validation_idx':train_val_idx[v_idx]} "
   ]
  },
  {
   "cell_type": "code",
   "execution_count": 3,
   "metadata": {},
   "outputs": [],
   "source": [
    "# Filter dataframes add or remove layout info\n",
    "nolayout_kinematic_mask = ~(kinematic_df['name'].str.contains(pat='layout'))\n",
    "noposition_kinematic_mask = ~(kinematic_df['name'].str.contains(pat='position'))\n",
    "kinematic_df = kinematic_df[np.logical_and(nolayout_kinematic_mask, noposition_kinematic_mask)]\n",
    "\n",
    "nolayout_neural_mask = ~(neural_df['unit'].str.contains(pat='layout'))\n",
    "noposition_neural_mask = ~(neural_df['unit'].str.contains(pat='position'))\n",
    "notask_neural_df = neural_df[np.logical_and(nolayout_neural_mask, noposition_neural_mask)]\n",
    "\n"
   ]
  },
  {
   "cell_type": "code",
   "execution_count": null,
   "metadata": {},
   "outputs": [],
   "source": []
  },
  {
   "cell_type": "code",
   "execution_count": 13,
   "metadata": {},
   "outputs": [],
   "source": [
    "def make_generators(pred_df, neural_df, neural_offset, exclude_processing=None):\n",
    "    sampling_rate = 100\n",
    "    kernel_offset = int(metadata['kernel_halfwidth'] * sampling_rate)  #Convolution kernel centered at zero, add to neural offset\n",
    "    offset = neural_offset + kernel_offset\n",
    "    window_size = 20\n",
    "    data_step_size = 1\n",
    "\n",
    "    # Set up PyTorch Dataloaders\n",
    "    fold=0\n",
    "    kinematic_type = 'posData'\n",
    "    # Parameters\n",
    "    batch_size = 10000\n",
    "    train_params = {'batch_size': batch_size, 'shuffle': True, 'num_workers': num_cores, 'pin_memory':False}\n",
    "    train_eval_params = {'batch_size': batch_size, 'shuffle': False, 'num_workers': num_cores, 'pin_memory':False}\n",
    "    validation_params = {'batch_size': batch_size, 'shuffle': True, 'num_workers': num_cores, 'pin_memory':False}\n",
    "    test_params = {'batch_size': batch_size, 'shuffle': False, 'num_workers': num_cores, 'pin_memory':False}\n",
    "\n",
    "    predict_kinematics=True\n",
    "    # Generators\n",
    "    training_set = mocap_functions.SEE_Dataset(cv_dict, fold, 'train_idx', pred_df, neural_df, offset, window_size, \n",
    "                                                data_step_size, device, 'posData', True, predict_kinematics, exclude_neural = exclude_processing)\n",
    "    training_generator = torch.utils.data.DataLoader(training_set, **train_params)\n",
    "    training_eval_generator = torch.utils.data.DataLoader(training_set, **train_eval_params)\n",
    "    X_train_data = training_set[:][0][:,-1,:].detach().cpu().numpy()\n",
    "    y_train_data = training_set[:][1][:,-1,:].detach().cpu().numpy()\n",
    "\n",
    "    validation_set = mocap_functions.SEE_Dataset(cv_dict, fold, 'validation_idx', pred_df, neural_df, offset, window_size, \n",
    "                                                    data_step_size, device, 'posData', True, predict_kinematics, exclude_neural = exclude_processing)\n",
    "    validation_generator = torch.utils.data.DataLoader(validation_set, **validation_params)\n",
    "\n",
    "    testing_set = mocap_functions.SEE_Dataset(cv_dict, fold, 'test_idx', pred_df, neural_df, offset, window_size, \n",
    "                                                    data_step_size, device, 'posData', True, predict_kinematics, exclude_neural = exclude_processing)\n",
    "    testing_generator = torch.utils.data.DataLoader(testing_set, **test_params)\n",
    "    X_test_data = testing_set[:][0][:,-1,:].detach().cpu().numpy()\n",
    "    y_test_data = testing_set[:][1][:,-1,:].detach().cpu().numpy()\n",
    "\n",
    "    data_arrays = (training_set, validation_set, testing_set)\n",
    "    generators = (training_generator, training_eval_generator, validation_generator, testing_generator)\n",
    "\n",
    "    return data_arrays, generators "
   ]
  },
  {
   "cell_type": "code",
   "execution_count": null,
   "metadata": {},
   "outputs": [],
   "source": []
  },
  {
   "cell_type": "code",
   "execution_count": null,
   "metadata": {},
   "outputs": [],
   "source": []
  },
  {
   "cell_type": "markdown",
   "metadata": {},
   "source": [
    "### Use function to create train/test sets with each data frame"
   ]
  },
  {
   "cell_type": "code",
   "execution_count": 14,
   "metadata": {},
   "outputs": [],
   "source": [
    "def run_wiener(pred_df, neural_df, neural_offset):\n",
    "    data_arrays, generators = make_generators(pred_df, neural_df, neural_offset)\n",
    "\n",
    "  # Unpack tuple into variables\n",
    "    training_set, validation_set, testing_set = data_arrays\n",
    "    training_generator, training_eval_generator, validation_generator, testing_generator = generators\n",
    "\n",
    "    X_train_data = training_set[:][0][:,-1,:].detach().cpu().numpy()\n",
    "    y_train_data = training_set[:][1][:,-1,:].detach().cpu().numpy()\n",
    "\n",
    "    X_test_data = testing_set[:][0][:,-1,:].detach().cpu().numpy()\n",
    "    y_test_data = testing_set[:][1][:,-1,:].detach().cpu().numpy()\n",
    "\n",
    "    #Fit and run wiener filter\n",
    "    model_wr = Neural_Decoding.decoders.WienerFilterDecoder() \n",
    "    model_wr.fit(X_train_data,y_train_data)\n",
    "\n",
    "    wr_train_pred = model_wr.predict(X_train_data)\n",
    "    wr_test_pred = model_wr.predict(X_test_data)\n",
    "\n",
    "    #Compute decoding\n",
    "    wr_train_corr = mocap_functions.matrix_corr(wr_train_pred,y_train_data)\n",
    "    wr_test_corr = mocap_functions.matrix_corr(wr_test_pred,y_test_data)\n",
    "\n",
    "    return wr_train_pred, wr_test_pred, wr_train_corr, wr_test_corr\n",
    "\n",
    "def run_rnn(pred_df, neural_df, neural_offset):\n",
    "    exclude_processing = np.zeros(95)\n",
    "    exclude_processing[-8:] = np.ones(8)\n",
    "    exclude_processing = exclude_processing.astype(bool)\n",
    "\n",
    "    data_arrays, generators = make_generators(pred_df, neural_df, neural_offset, exclude_processing)\n",
    "    \n",
    "    # Unpack tuple into variables\n",
    "    training_set, validation_set, testing_set = data_arrays\n",
    "    training_generator, training_eval_generator, validation_generator, testing_generator = generators\n",
    "\n",
    "    X_train_data = training_set[:][0][:,-1,:].detach().cpu().numpy()\n",
    "    y_train_data = training_set[:][1][:,-1,:].detach().cpu().numpy()\n",
    "\n",
    "    X_test_data = testing_set[:][0][:,-1,:].detach().cpu().numpy()\n",
    "    y_test_data = testing_set[:][1][:,-1,:].detach().cpu().numpy()\n",
    "\n",
    "    #Define hyperparameters\n",
    "    lr = 1e-4\n",
    "    weight_decay = 1e-6\n",
    "    hidden_dim = 100\n",
    "    dropout = 0.1\n",
    "    n_layers = 2\n",
    "    max_epochs = 1000\n",
    "    input_size = training_set[0][0].shape[1] \n",
    "    output_size = training_set[0][1].shape[1] \n",
    "\n",
    "\n",
    "    model_rnn = mocap_functions.model_gru(input_size, output_size, hidden_dim, n_layers, dropout, device).to(device)\n",
    "    # Define Loss, Optimizerints h\n",
    "    criterion = nn.MSELoss()\n",
    "    optimizer = torch.optim.Adam(model_rnn.parameters(), lr=lr, weight_decay=weight_decay)\n",
    "\n",
    "    #Train model\n",
    "    loss_dict = mocap_functions.train_validate_model(model_rnn, optimizer, criterion, max_epochs, training_generator, validation_generator, device, 10, 5)\n",
    "\n",
    "    #Evaluate trained model\n",
    "    rnn_train_pred = mocap_functions.evaluate_model(model_rnn, training_eval_generator, device)\n",
    "    rnn_test_pred = mocap_functions.evaluate_model(model_rnn, testing_generator, device)\n",
    "\n",
    "    #Evaluate trained model\n",
    "    rnn_train_pred = mocap_functions.evaluate_model(model_rnn, training_eval_generator, device)\n",
    "    rnn_test_pred = mocap_functions.evaluate_model(model_rnn, testing_generator, device)\n",
    "\n",
    "    rnn_train_corr = mocap_functions.matrix_corr(rnn_train_pred, y_train_data)\n",
    "    rnn_test_corr = mocap_functions.matrix_corr(rnn_test_pred, y_test_data)\n",
    "\n",
    "    return rnn_train_pred, rnn_test_pred, rnn_train_corr, rnn_test_corr\n",
    "    "
   ]
  },
  {
   "cell_type": "markdown",
   "metadata": {},
   "source": [
    "### Generate decoding results"
   ]
  },
  {
   "cell_type": "code",
   "execution_count": 15,
   "metadata": {},
   "outputs": [
    {
     "name": "stderr",
     "output_type": "stream",
     "text": [
      "/tmp/ipykernel_409265/3394839204.py:2: SettingWithCopyWarning: \n",
      "A value is trying to be set on a copy of a slice from a DataFrame.\n",
      "Try using .loc[row_indexer,col_indexer] = value instead\n",
      "\n",
      "See the caveats in the documentation: https://pandas.pydata.org/pandas-docs/stable/user_guide/indexing.html#returning-a-view-versus-a-copy\n",
      "  carpal_df['posData'] = carpal_df['posData'].map(partial(smooth_waveform, window_len=200, sfreq=100))\n"
     ]
    },
    {
     "ename": "IndexError",
     "evalue": "boolean index did not match indexed array along dimension 1; dimension is 3 but corresponding boolean dimension is 95",
     "output_type": "error",
     "traceback": [
      "\u001b[0;31m---------------------------------------------------------------------------\u001b[0m",
      "\u001b[0;31mIndexError\u001b[0m                                Traceback (most recent call last)",
      "\u001b[1;32m/home/nick/Donoghue_lab/SEE_decoding/notebooks/movement_decoding_rnn.ipynb Cellule 11\u001b[0m in \u001b[0;36m<cell line: 7>\u001b[0;34m()\u001b[0m\n\u001b[1;32m      <a href='vscode-notebook-cell:/home/nick/Donoghue_lab/SEE_decoding/notebooks/movement_decoding_rnn.ipynb#X13sZmlsZQ%3D%3D?line=7'>8</a>\u001b[0m decode_results[func_name] \u001b[39m=\u001b[39m \u001b[39mdict\u001b[39m()\n\u001b[1;32m      <a href='vscode-notebook-cell:/home/nick/Donoghue_lab/SEE_decoding/notebooks/movement_decoding_rnn.ipynb#X13sZmlsZQ%3D%3D?line=8'>9</a>\u001b[0m \u001b[39mfor\u001b[39;00m df_type, pred_df \u001b[39min\u001b[39;00m df_dict\u001b[39m.\u001b[39mitems():\n\u001b[0;32m---> <a href='vscode-notebook-cell:/home/nick/Donoghue_lab/SEE_decoding/notebooks/movement_decoding_rnn.ipynb#X13sZmlsZQ%3D%3D?line=9'>10</a>\u001b[0m     train_pred, test_pred, train_corr, test_corr \u001b[39m=\u001b[39m func(carpal_df, pred_df, \u001b[39m20\u001b[39;49m)\n\u001b[1;32m     <a href='vscode-notebook-cell:/home/nick/Donoghue_lab/SEE_decoding/notebooks/movement_decoding_rnn.ipynb#X13sZmlsZQ%3D%3D?line=11'>12</a>\u001b[0m     decode_results[func_name][df_type] \u001b[39m=\u001b[39m {\n\u001b[1;32m     <a href='vscode-notebook-cell:/home/nick/Donoghue_lab/SEE_decoding/notebooks/movement_decoding_rnn.ipynb#X13sZmlsZQ%3D%3D?line=12'>13</a>\u001b[0m         \u001b[39m'\u001b[39m\u001b[39mtrain_pred\u001b[39m\u001b[39m'\u001b[39m: train_pred,\n\u001b[1;32m     <a href='vscode-notebook-cell:/home/nick/Donoghue_lab/SEE_decoding/notebooks/movement_decoding_rnn.ipynb#X13sZmlsZQ%3D%3D?line=13'>14</a>\u001b[0m         \u001b[39m'\u001b[39m\u001b[39mtest_pred\u001b[39m\u001b[39m'\u001b[39m: test_pred,\n\u001b[1;32m     <a href='vscode-notebook-cell:/home/nick/Donoghue_lab/SEE_decoding/notebooks/movement_decoding_rnn.ipynb#X13sZmlsZQ%3D%3D?line=14'>15</a>\u001b[0m         \u001b[39m'\u001b[39m\u001b[39mtrain_corr\u001b[39m\u001b[39m'\u001b[39m: train_corr,\n\u001b[1;32m     <a href='vscode-notebook-cell:/home/nick/Donoghue_lab/SEE_decoding/notebooks/movement_decoding_rnn.ipynb#X13sZmlsZQ%3D%3D?line=15'>16</a>\u001b[0m         \u001b[39m'\u001b[39m\u001b[39mtest_corr\u001b[39m\u001b[39m'\u001b[39m: test_corr\n\u001b[1;32m     <a href='vscode-notebook-cell:/home/nick/Donoghue_lab/SEE_decoding/notebooks/movement_decoding_rnn.ipynb#X13sZmlsZQ%3D%3D?line=16'>17</a>\u001b[0m     }\n",
      "\u001b[1;32m/home/nick/Donoghue_lab/SEE_decoding/notebooks/movement_decoding_rnn.ipynb Cellule 11\u001b[0m in \u001b[0;36mrun_rnn\u001b[0;34m(pred_df, neural_df, neural_offset)\u001b[0m\n\u001b[1;32m     <a href='vscode-notebook-cell:/home/nick/Donoghue_lab/SEE_decoding/notebooks/movement_decoding_rnn.ipynb#X13sZmlsZQ%3D%3D?line=28'>29</a>\u001b[0m exclude_processing[\u001b[39m-\u001b[39m\u001b[39m8\u001b[39m:] \u001b[39m=\u001b[39m np\u001b[39m.\u001b[39mones(\u001b[39m8\u001b[39m)\n\u001b[1;32m     <a href='vscode-notebook-cell:/home/nick/Donoghue_lab/SEE_decoding/notebooks/movement_decoding_rnn.ipynb#X13sZmlsZQ%3D%3D?line=29'>30</a>\u001b[0m exclude_processing \u001b[39m=\u001b[39m exclude_processing\u001b[39m.\u001b[39mastype(\u001b[39mbool\u001b[39m)\n\u001b[0;32m---> <a href='vscode-notebook-cell:/home/nick/Donoghue_lab/SEE_decoding/notebooks/movement_decoding_rnn.ipynb#X13sZmlsZQ%3D%3D?line=31'>32</a>\u001b[0m data_arrays, generators \u001b[39m=\u001b[39m make_generators(pred_df, neural_df, neural_offset, exclude_processing)\n\u001b[1;32m     <a href='vscode-notebook-cell:/home/nick/Donoghue_lab/SEE_decoding/notebooks/movement_decoding_rnn.ipynb#X13sZmlsZQ%3D%3D?line=33'>34</a>\u001b[0m \u001b[39m# Unpack tuple into variables\u001b[39;00m\n\u001b[1;32m     <a href='vscode-notebook-cell:/home/nick/Donoghue_lab/SEE_decoding/notebooks/movement_decoding_rnn.ipynb#X13sZmlsZQ%3D%3D?line=34'>35</a>\u001b[0m training_set, validation_set, testing_set \u001b[39m=\u001b[39m data_arrays\n",
      "\u001b[1;32m/home/nick/Donoghue_lab/SEE_decoding/notebooks/movement_decoding_rnn.ipynb Cellule 11\u001b[0m in \u001b[0;36mmake_generators\u001b[0;34m(pred_df, neural_df, neural_offset, exclude_processing)\u001b[0m\n\u001b[1;32m     <a href='vscode-notebook-cell:/home/nick/Donoghue_lab/SEE_decoding/notebooks/movement_decoding_rnn.ipynb#X13sZmlsZQ%3D%3D?line=17'>18</a>\u001b[0m predict_kinematics\u001b[39m=\u001b[39m\u001b[39mTrue\u001b[39;00m\n\u001b[1;32m     <a href='vscode-notebook-cell:/home/nick/Donoghue_lab/SEE_decoding/notebooks/movement_decoding_rnn.ipynb#X13sZmlsZQ%3D%3D?line=18'>19</a>\u001b[0m \u001b[39m# Generators\u001b[39;00m\n\u001b[0;32m---> <a href='vscode-notebook-cell:/home/nick/Donoghue_lab/SEE_decoding/notebooks/movement_decoding_rnn.ipynb#X13sZmlsZQ%3D%3D?line=19'>20</a>\u001b[0m training_set \u001b[39m=\u001b[39m mocap_functions\u001b[39m.\u001b[39;49mSEE_Dataset(cv_dict, fold, \u001b[39m'\u001b[39;49m\u001b[39mtrain_idx\u001b[39;49m\u001b[39m'\u001b[39;49m, pred_df, neural_df, offset, window_size, \n\u001b[1;32m     <a href='vscode-notebook-cell:/home/nick/Donoghue_lab/SEE_decoding/notebooks/movement_decoding_rnn.ipynb#X13sZmlsZQ%3D%3D?line=20'>21</a>\u001b[0m                                             data_step_size, device, \u001b[39m'\u001b[39;49m\u001b[39mposData\u001b[39;49m\u001b[39m'\u001b[39;49m, \u001b[39mTrue\u001b[39;49;00m, predict_kinematics, exclude_processing \u001b[39m=\u001b[39;49m exclude_processing)\n\u001b[1;32m     <a href='vscode-notebook-cell:/home/nick/Donoghue_lab/SEE_decoding/notebooks/movement_decoding_rnn.ipynb#X13sZmlsZQ%3D%3D?line=21'>22</a>\u001b[0m training_generator \u001b[39m=\u001b[39m torch\u001b[39m.\u001b[39mutils\u001b[39m.\u001b[39mdata\u001b[39m.\u001b[39mDataLoader(training_set, \u001b[39m*\u001b[39m\u001b[39m*\u001b[39mtrain_params)\n\u001b[1;32m     <a href='vscode-notebook-cell:/home/nick/Donoghue_lab/SEE_decoding/notebooks/movement_decoding_rnn.ipynb#X13sZmlsZQ%3D%3D?line=22'>23</a>\u001b[0m training_eval_generator \u001b[39m=\u001b[39m torch\u001b[39m.\u001b[39mutils\u001b[39m.\u001b[39mdata\u001b[39m.\u001b[39mDataLoader(training_set, \u001b[39m*\u001b[39m\u001b[39m*\u001b[39mtrain_eval_params)\n",
      "File \u001b[0;32m~/Donoghue_lab/SEE_decoding/notebooks/../code/mocap_functions.py:357\u001b[0m, in \u001b[0;36mSEE_Dataset.__init__\u001b[0;34m(self, cv_dict, fold, partition, kinematic_df, neural_df, offset, window_size, data_step_size, device, kinematic_type, scale_data, flip_outputs, exclude_processing)\u001b[0m\n\u001b[1;32m    355\u001b[0m \u001b[39mself\u001b[39m\u001b[39m.\u001b[39mexclude_processing \u001b[39m=\u001b[39m exclude_processing \u001b[39m# Boolean array of 1's for features to not be scaled\u001b[39;00m\n\u001b[1;32m    356\u001b[0m \u001b[39mif\u001b[39;00m scale_data:\n\u001b[0;32m--> 357\u001b[0m     \u001b[39mself\u001b[39m\u001b[39m.\u001b[39mposData_list \u001b[39m=\u001b[39m \u001b[39mself\u001b[39;49m\u001b[39m.\u001b[39;49mtransform_data(\u001b[39mself\u001b[39;49m\u001b[39m.\u001b[39;49mposData_list)\n\u001b[1;32m    358\u001b[0m     \u001b[39mself\u001b[39m\u001b[39m.\u001b[39mneuralData_list \u001b[39m=\u001b[39m \u001b[39mself\u001b[39m\u001b[39m.\u001b[39mtransform_data(\u001b[39mself\u001b[39m\u001b[39m.\u001b[39mneuralData_list)\n\u001b[1;32m    360\u001b[0m \u001b[39mself\u001b[39m\u001b[39m.\u001b[39mkinematic_type \u001b[39m=\u001b[39m kinematic_type\n",
      "File \u001b[0;32m~/Donoghue_lab/SEE_decoding/notebooks/../code/mocap_functions.py:422\u001b[0m, in \u001b[0;36mSEE_Dataset.transform_data\u001b[0;34m(self, data_list)\u001b[0m\n\u001b[1;32m    420\u001b[0m \u001b[39melse\u001b[39;00m: \n\u001b[1;32m    421\u001b[0m     scaled_data_trial \u001b[39m=\u001b[39m np\u001b[39m.\u001b[39mzeros(data_trial\u001b[39m.\u001b[39mshape)\n\u001b[0;32m--> 422\u001b[0m     scaled_data_trial[:, \u001b[39mself\u001b[39m\u001b[39m.\u001b[39mexclude_processing] \u001b[39m=\u001b[39m data_trial[:, \u001b[39mself\u001b[39;49m\u001b[39m.\u001b[39;49mexclude_processing]\n\u001b[1;32m    423\u001b[0m     processed_data \u001b[39m=\u001b[39m scaler\u001b[39m.\u001b[39mfit_transform(data_trial[\u001b[39m~\u001b[39m\u001b[39mself\u001b[39m\u001b[39m.\u001b[39mexclude_processing])\n\u001b[1;32m    424\u001b[0m     scaled_data_trial[:, \u001b[39m~\u001b[39m\u001b[39mself\u001b[39m\u001b[39m.\u001b[39mexclude_processing] \u001b[39m=\u001b[39m processed_data\n",
      "\u001b[0;31mIndexError\u001b[0m: boolean index did not match indexed array along dimension 1; dimension is 3 but corresponding boolean dimension is 95"
     ]
    }
   ],
   "source": [
    "carpal_df = kinematic_df[kinematic_df['name'].str.contains(pat='carpal')]\n",
    "carpal_df['posData'] = carpal_df['posData'].map(partial(smooth_waveform, window_len=200, sfreq=100))\n",
    "\n",
    "func_dict = {'wiener': run_wiener, 'rnn': run_rnn}\n",
    "df_dict = {'layout': neural_df, 'nolayout': notask_neural_df}\n",
    "decode_results = dict()\n",
    "for func_name, func in func_dict.items():\n",
    "    decode_results[func_name] = dict()\n",
    "    for df_type, pred_df in df_dict.items():\n",
    "        train_pred, test_pred, train_corr, test_corr = func(carpal_df, pred_df, 20)\n",
    "\n",
    "        decode_results[func_name][df_type] = {\n",
    "            'train_pred': train_pred,\n",
    "            'test_pred': test_pred,\n",
    "            'train_corr': train_corr,\n",
    "            'test_corr': test_corr\n",
    "        }\n",
    "\n"
   ]
  },
  {
   "cell_type": "code",
   "execution_count": null,
   "metadata": {},
   "outputs": [],
   "source": []
  },
  {
   "cell_type": "code",
   "execution_count": null,
   "metadata": {},
   "outputs": [],
   "source": []
  },
  {
   "cell_type": "code",
   "execution_count": 7,
   "metadata": {},
   "outputs": [],
   "source": [
    "data_arrays, generators = make_generators(carpal_df, neural_df, 20)\n",
    "\n",
    "# Unpack tuple into variables\n",
    "training_set, validation_set, testing_set = data_arrays\n",
    "training_generator, training_eval_generator, validation_generator, testing_generator = generators\n",
    "\n",
    "X_train_data = training_set[:][0][:,-1,:].detach().cpu().numpy()\n",
    "y_train_data = training_set[:][1][:,-1,:].detach().cpu().numpy()\n",
    "\n",
    "X_test_data = testing_set[:][0][:,-1,:].detach().cpu().numpy()\n",
    "y_test_data = testing_set[:][1][:,-1,:].detach().cpu().numpy()"
   ]
  },
  {
   "cell_type": "code",
   "execution_count": 10,
   "metadata": {},
   "outputs": [
    {
     "data": {
      "text/plain": [
       "tensor([[ 0.5865, -0.2348, -0.3273, -0.8816,  0.0000,  0.0000,  0.0000,  0.0000,\n",
       "          0.0000,  0.0000,  0.0000,  0.0000],\n",
       "        [ 0.4954, -0.3640, -0.3273, -0.9355,  0.0000,  0.0000,  0.0000,  0.0000,\n",
       "          0.0000,  0.0000,  0.0000,  0.0000],\n",
       "        [ 0.4103, -0.4846, -0.3273, -0.9859,  0.0000,  0.0000,  0.0000,  0.0000,\n",
       "          0.0000,  0.0000,  0.0000,  0.0000],\n",
       "        [ 0.3308, -0.5973, -0.3273, -1.0330,  0.0000,  0.0000,  0.0000,  0.0000,\n",
       "          0.0000,  0.0000,  0.0000,  0.0000],\n",
       "        [ 0.2566, -0.7024, -0.3273, -1.0769,  0.0000,  0.0000,  0.0000,  0.0000,\n",
       "          0.0000,  0.0000,  0.0000,  0.0000],\n",
       "        [ 0.1874, -0.8007, -0.3273, -1.1179,  0.0000,  0.0000,  0.0000,  0.0000,\n",
       "          0.0000,  0.0000,  0.0000,  0.0000],\n",
       "        [ 0.1227, -0.8924, -0.3273, -1.1562,  0.0000,  0.0000,  0.0000,  0.0000,\n",
       "          0.0000,  0.0000,  0.0000,  0.0000],\n",
       "        [ 0.0623, -0.9780, -0.3273, -1.1920,  0.0000,  0.0000,  0.0000,  0.0000,\n",
       "          0.0000,  0.0000,  0.0000,  0.0000],\n",
       "        [ 0.0058,  0.3805, -0.3273, -1.2254,  0.0000,  0.0000,  0.0000,  0.0000,\n",
       "          0.0000,  0.0000,  0.0000,  0.0000],\n",
       "        [-0.0468,  0.2106, -0.3273, -1.2566,  0.0000,  0.0000,  0.0000,  0.0000,\n",
       "          0.0000,  0.0000,  0.0000,  0.0000],\n",
       "        [-0.0960,  0.0520, -0.3273, -1.2857,  0.0000,  0.0000,  0.0000,  0.0000,\n",
       "          0.0000,  0.0000,  0.0000,  0.0000],\n",
       "        [-0.1420, -0.0962, -0.3273, -0.7866,  0.0000,  0.0000,  0.0000,  0.0000,\n",
       "          0.0000,  0.0000,  0.0000,  0.0000],\n",
       "        [-0.1848,  0.4847, -0.3273, -0.8469,  0.0000,  0.0000,  0.0000,  0.0000,\n",
       "          0.0000,  0.0000,  0.0000,  0.0000],\n",
       "        [-0.2249,  0.3079, -0.3273, -0.9031,  0.0000,  0.0000,  0.0000,  0.0000,\n",
       "          0.0000,  0.0000,  0.0000,  0.0000],\n",
       "        [-0.2623,  0.1428, -0.3273, -0.9556,  0.0000,  0.0000,  0.0000,  0.0000,\n",
       "          0.0000,  0.0000,  0.0000,  0.0000],\n",
       "        [-0.2972, -0.0114, -0.3273, -1.0047,  0.0000,  0.0000,  0.0000,  0.0000,\n",
       "          0.0000,  0.0000,  0.0000,  0.0000],\n",
       "        [-0.3298, -0.1553, -0.3273, -1.0505,  0.0000,  0.0000,  0.0000,  0.0000,\n",
       "          0.0000,  0.0000,  0.0000,  0.0000],\n",
       "        [-0.3603, -0.2898, -0.3273, -0.5670,  0.0000,  0.0000,  0.0000,  0.0000,\n",
       "          0.0000,  0.0000,  0.0000,  0.0000],\n",
       "        [-0.3887, -0.4153, -0.3273, -0.6418,  0.0000,  0.0000,  0.0000,  0.0000,\n",
       "          0.0000,  0.0000,  0.0000,  0.0000],\n",
       "        [-0.4153, -0.5325, -0.3273, -0.7116,  0.0000,  0.0000,  0.0000,  0.0000,\n",
       "          0.0000,  0.0000,  0.0000,  0.0000]], dtype=torch.float64)"
      ]
     },
     "execution_count": 10,
     "metadata": {},
     "output_type": "execute_result"
    }
   ],
   "source": [
    "training_set[0][0][:,-12:]"
   ]
  },
  {
   "cell_type": "code",
   "execution_count": null,
   "metadata": {},
   "outputs": [],
   "source": []
  },
  {
   "cell_type": "code",
   "execution_count": 11,
   "metadata": {},
   "outputs": [
    {
     "data": {
      "image/png": "[encoded data removed]",
      "text/plain": [
       "<Figure size 576x432 with 2 Axes>"
      ]
     },
     "metadata": {
      "needs_background": "light"
     },
     "output_type": "display_data"
    }
   ],
   "source": [
    "plt.figure(figsize=(8, 6))\n",
    "tstart = 1800\n",
    "bounds = np.arange(tstart, tstart + 1500)\n",
    "x_vals = np.arange(len(bounds))/100\n",
    "\n",
    "marker_names = ['Carpal X', 'Carpal Y', 'Carpal Z']\n",
    "for col_idx in range(2):\n",
    "    plt.subplot(2, 1, col_idx+1)\n",
    "    #plt.plot(x_vals, y_test_data[bounds, col_idx], color='k')\n",
    "    plt.plot(x_vals, decode_results['rnn']['layout']['test_pred'][bounds, col_idx], color=f'C{col_idx + 0}', linewidth=2)\n",
    "    plt.title(f\"{marker_names[col_idx]}; corr={np.round(decode_results['rnn']['layout']['test_corr'][col_idx], 2)}\", fontsize=18)\n",
    "    \n",
    "    if col_idx == 1:\n",
    "        plt.xlabel('Time (s)', fontsize=16)\n",
    "    else:\n",
    "        plt.xticks([])\n",
    "    \n",
    "    plt.ylim(plt.ylim())\n",
    "    plt.xlim(plt.xlim())\n",
    "    \n",
    "    plt.vlines(x=[3, 6, 9, 12],ymin=-10, ymax=10, color='k', linewidth=10, linestyle='-', alpha=0.3)\n",
    "plt.tight_layout()\n",
    "plt.savefig(f'movement_decoding_final.svg')"
   ]
  },
  {
   "cell_type": "code",
   "execution_count": null,
   "metadata": {},
   "outputs": [],
   "source": []
  },
  {
   "cell_type": "code",
   "execution_count": 7,
   "metadata": {},
   "outputs": [
    {
     "data": {
      "text/plain": [
       "(-0.05, 0.9)"
      ]
     },
     "execution_count": 7,
     "metadata": {},
     "output_type": "execute_result"
    },
    {
     "data": {
      "image/png": "[encoded data removed]",
      "text/plain": [
       "<Figure size 504x432 with 1 Axes>"
      ]
     },
     "metadata": {
      "needs_background": "light"
     },
     "output_type": "display_data"
    }
   ],
   "source": [
    "nolayout_test_corr = decode_results['rnn']['nolayout']['test_corr']\n",
    "all_test_corr = decode_results['rnn']['layout']['test_corr']\n",
    "\n",
    "plt.figure(figsize=(7,6))\n",
    "plot_data = np.stack([nolayout_test_corr, all_test_corr])\n",
    "_ = plt.plot(plot_data, color='k', linewidth=2, alpha=0.8)\n",
    "plt.xticks([0, 1], labels=['No Layout', 'Layout'], fontsize=16)\n",
    "plt.ylabel('Correlation', fontsize=16)\n",
    "plt.violinplot(nolayout_test_corr, positions=[0], showmeans=False,showextrema=False)\n",
    "plt.violinplot(all_test_corr, positions=[1], showmeans=False,showextrema=False)\n",
    "plt.title('One-Hot Layout Encoding', fontsize=16)\n",
    "plt.ylim([-0.05,0.9])"
   ]
  },
  {
   "cell_type": "code",
   "execution_count": null,
   "metadata": {},
   "outputs": [],
   "source": []
  },
  {
   "cell_type": "code",
   "execution_count": null,
   "metadata": {},
   "outputs": [],
   "source": []
  },
  {
   "cell_type": "code",
   "execution_count": null,
   "metadata": {},
   "outputs": [],
   "source": []
  },
  {
   "cell_type": "code",
   "execution_count": null,
   "metadata": {},
   "outputs": [],
   "source": []
  },
  {
   "cell_type": "code",
   "execution_count": null,
   "metadata": {},
   "outputs": [],
   "source": [
    "plt.figure(figsize=(14,6))\n",
    "plt.subplot(1,2,1)\n",
    "plot_data = np.stack([proxjoint_test_corr, all_test_corr, finger_test_corr])\n",
    "_ = plt.plot(plot_data, color='k', linewidth=2, alpha=0.8)\n",
    "plt.xticks([0, 1, 2], labels=['ProxJoint', 'Combined', 'Finger'], fontsize=16)\n",
    "plt.ylabel('Correlation', fontsize=16)\n",
    "plt.violinplot(proxjoint_test_corr, positions=[0], showmeans=False,showextrema=False)\n",
    "plt.violinplot(all_test_corr, positions=[1], showmeans=False,showextrema=False)\n",
    "plt.violinplot(finger_test_corr, positions=[2], showmeans=False,showextrema=False)\n",
    "plt.title('ProxJoint/Finger vs. Combined', fontsize=16)\n",
    "plt.ylim([-0.05,0.9])\n",
    "\n",
    "plt.subplot(1,2,2)\n",
    "plot_data = np.stack([finger_proxjoint_test_corr, all_test_corr, eyes_test_corr])\n",
    "_ = plt.plot(plot_data, color='k', linewidth=2, alpha=0.8)\n",
    "plt.xticks([0, 1, 2], labels=['Finger+ProxJoint', 'Combined', 'Eyes'], fontsize=16)\n",
    "plt.ylabel('Correlation', fontsize=16)\n",
    "plt.violinplot(finger_proxjoint_test_corr, positions=[0], showmeans=False,showextrema=False)\n",
    "plt.violinplot(all_test_corr, positions=[1], showmeans=False,showextrema=False)\n",
    "plt.violinplot(eyes_test_corr, positions=[2], showmeans=False,showextrema=False)\n",
    "plt.title('Finger+ProxJoint/Eyes vs. Combined', fontsize=16)\n",
    "plt.ylim([-0.05,0.9])\n",
    "\n",
    "plt.savefig('single_unit_pred_final.svg')"
   ]
  },
  {
   "cell_type": "code",
   "execution_count": null,
   "metadata": {},
   "outputs": [],
   "source": [
    "compare_data_list = [all_test_pred, eyes_test_pred, finger_test_pred, proxjoint_test_pred]\n",
    "compare_data_names = ['Combined', 'Eyes', 'Fingers', 'Forelimb']\n",
    "\n",
    "data_arrays, generators = make_generators(kinematic_df, neural_df, neural_offset=20)\n",
    "    \n",
    "# Unpack tuple into variables\n",
    "training_set, validation_set, testing_set = data_arrays\n",
    "training_generator, training_eval_generator, validation_generator, testing_generator = generators\n",
    "\n",
    "X_train_data = training_set[:][0][:,-1,:].detach().cpu().numpy()\n",
    "y_train_data = training_set[:][1][:,-1,:].detach().cpu().numpy()\n",
    "\n",
    "X_test_data = testing_set[:][0][:,-1,:].detach().cpu().numpy()\n",
    "y_test_data = testing_set[:][1][:,-1,:].detach().cpu().numpy()\n",
    "\n",
    "#Testing Data\n",
    "plt.figure(figsize=(14,8))\n",
    "bounds = np.arange(0,1500)\n",
    "x_vals = np.arange(len(bounds))/100\n",
    "unit_list = [4, 8, 16]\n",
    "\n",
    "for row_idx, unit_idx in enumerate(unit_list):\n",
    "    for plot_idx, (compare_data, name) in enumerate(zip(compare_data_list, compare_data_names)):\n",
    "        plt.subplot(3,4, plot_idx+1 + (4*row_idx))\n",
    "        plt.plot(x_vals, y_test_data[bounds,unit_idx], color='k')\n",
    "        plt.ylim(plt.ylim())\n",
    "        plt.plot(x_vals, compare_data[bounds,unit_idx], color=f'C{plot_idx + 1}')\n",
    "        plt.title(f'{name}: Unit {unit_idx}')\n",
    "        #plt.ylim([-3, 3.7])\n",
    "        \n",
    "        if plot_idx == 0:\n",
    "            plt.ylabel('Firing Rate (a.u.)')\n",
    "            \n",
    "        if row_idx == 2:\n",
    "            plt.xlabel('Time (s)')\n",
    "        else:\n",
    "            plt.xticks([])\n",
    "\n",
    "    plt.tight_layout()"
   ]
  },
  {
   "cell_type": "code",
   "execution_count": null,
   "metadata": {},
   "outputs": [],
   "source": []
  }
 ],
 "metadata": {
  "kernelspec": {
   "display_name": "Python 3 (ipykernel)",
   "language": "python",
   "name": "python3"
  },
  "language_info": {
   "codemirror_mode": {
    "name": "ipython",
    "version": 3
   },
   "file_extension": ".py",
   "mimetype": "text/x-python",
   "name": "python",
   "nbconvert_exporter": "python",
   "pygments_lexer": "ipython3",
   "version": "3.9.12"
  },
  "vscode": {
   "interpreter": {
    "hash": "0b48ab3240dc41ffa029ce879fa5e087e0a83cbe7a72ef65a19cb71535771faa"
   }
  }
 },
 "nbformat": 4,
 "nbformat_minor": 4
}
