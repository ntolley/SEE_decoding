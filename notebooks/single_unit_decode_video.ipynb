{
 "cells": [
  {
   "cell_type": "code",
   "execution_count": 14,
   "metadata": {},
   "outputs": [],
   "source": [
    "import sys\n",
    "sys.path.append('../code') \n",
    "import mocap_functions\n",
    "from sklearn.preprocessing import StandardScaler\n",
    "import numpy as np\n",
    "import pandas as pd\n",
    "import matplotlib.pyplot as plt\n",
    "import torch\n",
    "import torchvision\n",
    "from sklearn.model_selection import ShuffleSplit\n",
    "import scipy.io as sio\n",
    "import multiprocessing\n",
    "num_cores = multiprocessing.cpu_count()\n"
   ]
  },
  {
   "cell_type": "code",
   "execution_count": 2,
   "metadata": {},
   "outputs": [],
   "source": [
    "data_path = '../data/SPK20220308/task_data/'\n",
    "kinematic_df, neural_df, metadata = mocap_functions.load_mocap_df(data_path)\n",
    "video_df = pd.read_pickle(data_path + 'video_df.pkl')\n",
    "\n",
    "\n",
    "num_trials = metadata['num_trials']\n",
    "\n",
    "#Generate cv_dict for regular train/test/validate split (no rolling window)\n",
    "cv_split = ShuffleSplit(n_splits=5, test_size=.25, random_state=0)\n",
    "val_split = ShuffleSplit(n_splits=1, test_size=.25, random_state=0)\n",
    "cv_dict = {}\n",
    "for fold, (train_val_idx, test_idx) in enumerate(cv_split.split(np.arange(num_trials))):\n",
    "    for t_idx, v_idx in val_split.split(train_val_idx): #No looping, just used to split train/validation sets\n",
    "        cv_dict[fold] = {'train_idx':train_val_idx[t_idx], \n",
    "                         'test_idx':test_idx, \n",
    "                         'validation_idx':train_val_idx[v_idx]} "
   ]
  },
  {
   "cell_type": "code",
   "execution_count": 12,
   "metadata": {},
   "outputs": [],
   "source": [
    "# Filter dataframes add or remove layout info\n",
    "nolayout_neural_mask = ~(neural_df['unit'].str.contains(pat='layout'))\n",
    "noposition_neural_mask = ~(neural_df['unit'].str.contains(pat='position'))\n",
    "neural_df = neural_df[np.logical_and(nolayout_neural_mask, noposition_neural_mask)]"
   ]
  },
  {
   "cell_type": "code",
   "execution_count": 3,
   "metadata": {},
   "outputs": [],
   "source": [
    "reader = torchvision.io.VideoReader('../data/SPK20220308/videos/SpikeCam1_03-08-1557.mp4', 'video')"
   ]
  },
  {
   "cell_type": "code",
   "execution_count": null,
   "metadata": {},
   "outputs": [],
   "source": []
  },
  {
   "cell_type": "code",
   "execution_count": 4,
   "metadata": {},
   "outputs": [],
   "source": [
    "analog_sampling_rate = 1000\n",
    "cam_frames = np.load('cam_frames.npy')\n",
    "\n",
    "fpath = '../data/SPK20220308/task_data/'\n",
    "experiment_dict = sio.loadmat(f'{fpath}eventsCB1_corrected.mat')\n",
    "ev_ex = experiment_dict['eventsCB1']\n",
    "\n",
    "cam_start = cam_frames[0] / analog_sampling_rate"
   ]
  },
  {
   "cell_type": "code",
   "execution_count": null,
   "metadata": {},
   "outputs": [],
   "source": []
  },
  {
   "cell_type": "code",
   "execution_count": 5,
   "metadata": {},
   "outputs": [
    {
     "name": "stdout",
     "output_type": "stream",
     "text": [
      "0 1 2 3 4 5 6 7 8 9 10 11 12 13 14 15 16 17 18 19 20 21 22 23 24 25 26 27 28 29 30 31 32 33 34 35 36 37 38 39 40 41 42 43 44 45 46 47 48 49 50 51 52 53 54 55 56 57 58 59 "
     ]
    }
   ],
   "source": [
    "for idx in range(60):\n",
    "    print(idx, end=' ')\n",
    "    reader.seek(video_df['frames'][0][idx] - cam_start)\n",
    "    frame = next(reader)\n",
    "    plt.figure(figsize=(10,5))\n",
    "    plt.subplot(1,2,1)\n",
    "    plt.imshow(frame['data'].numpy()[0,:,:])\n",
    "\n",
    "    plt.subplot(1,2,2)\n",
    "    pooler = torch.nn.AvgPool2d(kernel_size=100, stride=50)\n",
    "    frame_pooled = pooler(frame['data'].float())\n",
    "    plt.imshow(frame_pooled[0,:,:])\n",
    "\n",
    "    plt.savefig(f'../data/SPK20220308/frames/frame{idx}.png')\n",
    "    plt.close()"
   ]
  },
  {
   "cell_type": "code",
   "execution_count": 6,
   "metadata": {},
   "outputs": [
    {
     "name": "stderr",
     "output_type": "stream",
     "text": [
      "IMAGEIO FFMPEG_WRITER WARNING: input image is not divisible by macro_block_size=16, resizing from (1000, 500) to (1008, 512) to ensure video compatibility with most codecs and players. To prevent resizing, make your input image divisible by the macro_block_size or set the macro_block_size to 1 (risking incompatibility).\n"
     ]
    }
   ],
   "source": [
    "images = [f'frame{idx}.png' for idx in range(60)]\n",
    "mocap_functions.make_movie('../data/SPK20220308/frames/', 'pooling_layer.mp4', images, fps=30, quality=10)"
   ]
  },
  {
   "cell_type": "code",
   "execution_count": null,
   "metadata": {},
   "outputs": [],
   "source": []
  },
  {
   "cell_type": "code",
   "execution_count": 70,
   "metadata": {},
   "outputs": [],
   "source": [
    "# Dataset class to handle mocap dataframes from SEE project\n",
    "class SEE_Video_Dataset(torch.utils.data.Dataset):\n",
    "    #'Characterizes a dataset for PyTorch'\n",
    "    def __init__(self, cv_dict, fold, partition, video_df, neural_df, reader,\n",
    "                 offset, window_size, data_step_size, device, cam_start,\n",
    "                 scale_neural=True, flip_outputs=False, scaler=None):\n",
    "        #'Initialization'\n",
    "        self.cv_dict = cv_dict\n",
    "        self.fold = fold\n",
    "        self.flip_outputs = flip_outputs\n",
    "        self.partition = partition\n",
    "        self.trial_idx = cv_dict[fold][partition]\n",
    "        self.num_trials = len(self.trial_idx) \n",
    "        self.offset = offset\n",
    "        self.window_size = window_size\n",
    "        self.data_step_size = data_step_size\n",
    "        self.device = device\n",
    "        self.videoData_list, self.neuralData_list = self.process_dfs(video_df, neural_df)\n",
    "        self.pooler = torch.nn.AvgPool2d(kernel_size=100, stride=50)\n",
    "        self.reader = reader\n",
    "        self.cam_start = cam_start\n",
    "\n",
    "        if scaler is None:\n",
    "            self.scaler = StandardScaler()\n",
    "        else:\n",
    "            self.scaler = scaler\n",
    "        \n",
    "        if scale_neural:\n",
    "            self.neuralData_list = self.transform_data(self.neuralData_list)\n",
    "\n",
    "        self.split_offset = np.round((self.offset/self.data_step_size) / 2).astype(int)\n",
    "\n",
    "        self.X_tensor, self.y_tensor = self.load_splits()\n",
    "        self.num_samples = np.sum(self.X_tensor.size(0))\n",
    "\n",
    "    def __len__(self):\n",
    "        #'Denotes the total number of samples'\n",
    "        return self.num_samples\n",
    "\n",
    "    # Need to modify if flipouts is ever enabled\n",
    "    def __getitem__(self, slice_index):\n",
    "        frame_data = list()\n",
    "        frame_times = self.X_tensor[slice_index, :, :]\n",
    "        for ftime in frame_times:\n",
    "            self.reader.seek(ftime - self.cam_start)\n",
    "            frame = next(self.reader)\n",
    "            frame_pooled = self.pooler(frame['data'].float())\n",
    "            frame_data.append(frame_pooled)\n",
    "\n",
    "        return frame_data, self.y_tensor[slice_index,:,:]\n",
    "\n",
    "    def process_dfs(self, video_df, neural_df):\n",
    "        frame_list, neuralData_list = list(), list()\n",
    "        for trial in self.trial_idx:\n",
    "            frame_array = np.stack(video_df['frames'][video_df['trial'] == trial].values).transpose() \n",
    "            neuralData_array = np.stack(neural_df['rates_video'][neural_df['trial'] == trial].values).squeeze().transpose() \n",
    "\n",
    "            frame_list.append(frame_array)\n",
    "            neuralData_list.append(neuralData_array)\n",
    "\n",
    "        return frame_list, neuralData_list\n",
    "\n",
    "    # **START HERE**, need to check if frame list is the right shape for unfold\n",
    "    # Hold of torchvision reader seek until end, but should still be able to unfold frame times\n",
    "    def format_splits(self, data_list):\n",
    "        unfolded_data_list = list()\n",
    "        for trial_idx in range(self.num_trials):\n",
    "            unfolded_trial = torch.from_numpy(data_list[trial_idx]).unfold(0, self.window_size, self.data_step_size).transpose(1, 2)\n",
    "            unfolded_data_list.append(unfolded_trial)\n",
    "        \n",
    "        data_tensor = torch.concat(unfolded_data_list, axis=0)\n",
    "\n",
    "        return data_tensor\n",
    "    \n",
    "    def load_splits(self):\n",
    "        if not self.flip_outputs:\n",
    "            X_tensor = self.format_splits(self.videoData_list)\n",
    "            y_tensor = self.format_splits(self.neuralData_list)\n",
    "        else:\n",
    "            y_tensor = self.format_splits(self.videoData_list)\n",
    "            X_tensor = self.format_splits(self.neuralData_list)\n",
    "\n",
    "        X_tensor, y_tensor = X_tensor[:-self.split_offset,::self.data_step_size,:], y_tensor[self.split_offset:,::self.data_step_size,:]\n",
    "\n",
    "        assert X_tensor.shape[0] == y_tensor.shape[0]\n",
    "        return X_tensor, y_tensor\n",
    "\n",
    "    #Zero mean and unit std\n",
    "    def transform_data(self, data_list):\n",
    "        #Iterate over trials and apply normalization\n",
    "     \n",
    "        scaled_data_list = []\n",
    "        for data_trial in data_list:\n",
    "            scaled_data_trial = self.scaler.fit_transform(data_trial)\n",
    "            scaled_data_list.append(scaled_data_trial)\n",
    "\n",
    "        return scaled_data_list"
   ]
  },
  {
   "cell_type": "code",
   "execution_count": 71,
   "metadata": {},
   "outputs": [],
   "source": [
    "# Set up PyTorch Dataloaders\n",
    "fold=0\n",
    "scale_neural = True\n",
    "flip_outputs = False\n",
    "device = 'cpu'\n",
    "\n",
    "offset = 2\n",
    "window_size = 1\n",
    "data_step_size = 1\n",
    "# Parameters\n",
    "batch_size = 10000\n",
    "train_params = {'batch_size': batch_size, 'shuffle': True, 'num_workers': num_cores, 'pin_memory':False}\n",
    "train_eval_params = {'batch_size': batch_size, 'shuffle': False, 'num_workers': num_cores, 'pin_memory':False}\n",
    "validation_params = {'batch_size': batch_size, 'shuffle': True, 'num_workers': num_cores, 'pin_memory':False}\n",
    "test_params = {'batch_size': batch_size, 'shuffle': False, 'num_workers': num_cores, 'pin_memory':False}"
   ]
  },
  {
   "cell_type": "code",
   "execution_count": 72,
   "metadata": {},
   "outputs": [],
   "source": [
    "training_set = SEE_Video_Dataset(cv_dict=cv_dict, fold=fold, partition='train_idx', video_df=video_df,\n",
    "                           neural_df=neural_df, reader=reader, offset=offset, window_size=window_size,\n",
    "                           data_step_size=data_step_size, device=device, cam_start=cam_start,\n",
    "                           scale_neural=scale_neural, flip_outputs=flip_outputs, scaler=None)"
   ]
  },
  {
   "cell_type": "code",
   "execution_count": 77,
   "metadata": {},
   "outputs": [
    {
     "data": {
      "text/plain": [
       "<matplotlib.image.AxesImage at 0x7f7d5a546650>"
      ]
     },
     "execution_count": 77,
     "metadata": {},
     "output_type": "execute_result"
    },
    {
     "data": {
      "image/png": "[encoded data removed]",
      "text/plain": [
       "<Figure size 640x480 with 1 Axes>"
      ]
     },
     "metadata": {},
     "output_type": "display_data"
    }
   ],
   "source": [
    "plt.imshow(training_set[0][0][0][0,:,:].numpy())"
   ]
  },
  {
   "cell_type": "code",
   "execution_count": 79,
   "metadata": {},
   "outputs": [
    {
     "data": {
      "text/plain": [
       "<matplotlib.image.AxesImage at 0x7f7d5a713810>"
      ]
     },
     "execution_count": 79,
     "metadata": {},
     "output_type": "execute_result"
    },
    {
     "data": {
      "image/png": "[encoded data removed]",
      "text/plain": [
       "<Figure size 640x480 with 1 Axes>"
      ]
     },
     "metadata": {},
     "output_type": "display_data"
    }
   ],
   "source": [
    "plt.imshow(training_set[1000][0][0][0,:,:].numpy())"
   ]
  },
  {
   "cell_type": "code",
   "execution_count": null,
   "metadata": {},
   "outputs": [],
   "source": []
  }
 ],
 "metadata": {
  "kernelspec": {
   "display_name": "SEE_vision",
   "language": "python",
   "name": "python3"
  },
  "language_info": {
   "codemirror_mode": {
    "name": "ipython",
    "version": 3
   },
   "file_extension": ".py",
   "mimetype": "text/x-python",
   "name": "python",
   "nbconvert_exporter": "python",
   "pygments_lexer": "ipython3",
   "version": "3.7.15"
  },
  "orig_nbformat": 4,
  "vscode": {
   "interpreter": {
    "hash": "3a246e07bf8b66b5c1880356d8a3e70a4d9601ee6ceb6631567362f046b2dec5"
   }
  }
 },
 "nbformat": 4,
 "nbformat_minor": 2
}
