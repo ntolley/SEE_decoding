{
 "cells": [
  {
   "cell_type": "code",
   "execution_count": 1,
   "metadata": {},
   "outputs": [],
   "source": [
    "import sys\n",
    "sys.path.append('../code')\n",
    "sys.path.append('../')\n",
    "\n",
    "import matplotlib.pyplot as plt\n",
    "import numpy as np\n",
    "import scipy.io as sio\n",
    "import neo\n",
    "import pandas as pd\n",
    "import scipy\n",
    "from externals.SpectralEvents import spectralevents as se\n",
    "import moviepy.editor\n",
    "\n",
    "import mocap_functions, spike_train_functions, lfp_functions\n",
    "from functools import partial\n",
    "import pickle\n",
    "import seaborn as sns\n"
   ]
  },
  {
   "cell_type": "code",
   "execution_count": 2,
   "metadata": {},
   "outputs": [],
   "source": [
    "experiment_dict = sio.loadmat('../data/SPK20220308/task_data/eventsCB1_corrected2.mat')\n",
    "ev_ex = experiment_dict['eventsCB1']\n",
    "\n",
    "tgtON = ev_ex['tgtON_C'][0][0][0]\n",
    "gocON = ev_ex['gocON_C'][0][0][0]\n",
    "\n",
    "endhold = ev_ex['endhold_C'][0][0][0]\n",
    "\n",
    "position = ev_ex['POSITION_C'][0][0][0]\n",
    "layout = ev_ex['LAYOUT_C'][0][0][0]\n",
    "\n",
    "gocON_all = ev_ex['gocON'][0][0][0]\n",
    "tgtON_all = ev_ex['tgtON'][0][0][0]\n",
    "\n",
    "go_correct_mask = np.in1d(gocON_all, gocON)\n",
    "go_error_mask = ~go_correct_mask\n",
    "\n",
    "cam_start = 14.851\n",
    "downsample_rate = 30\n",
    "samp_freq = 1000\n",
    "\n",
    "#Use neo module to load blackrock files\n",
    "fpath = '../data/SPK20220308/task_data/SPKRH20220308_CB1_quiver4toyPKPK4Rotation_delay_001'\n",
    "lfp_data_raw, lfp_times_raw = lfp_functions.load_ns6_analog(fpath, downsample_rate, from_ns6=False, save=False, channel_step=2)"
   ]
  },
  {
   "cell_type": "code",
   "execution_count": 4,
   "metadata": {},
   "outputs": [],
   "source": [
    "st_offset = -1 # seconds\n",
    "max_time = 2 # seconds\n",
    "max_samples = int(max_time * samp_freq)\n",
    "channel_idx = 50\n",
    "\n",
    "lfp_event_ts = gocON\n",
    "\n",
    "\n",
    "lfp_data_list = list()\n",
    "for event_time in lfp_event_ts:\n",
    "    tstart = event_time + st_offset\n",
    "    start_idx = np.argmin(np.abs(lfp_times_raw - tstart))\n",
    "    stop_idx = start_idx + max_samples\n",
    "\n",
    "    lfp_data_list.append(lfp_data_raw[channel_idx, start_idx:stop_idx])\n",
    "\n",
    "lfp_data = np.stack(lfp_data_list)\n",
    "\n",
    "power_samples = (0, 1000) # range to calculate band power on\n",
    "power_list = np.array([lfp_functions.bandpower(\n",
    "    lfp_data[idx, power_samples[0]:power_samples[1]], fs=samp_freq, fmin=13, fmax=29) for \n",
    "    idx in range(lfp_data.shape[0])])\n",
    "\n",
    "power_sort = np.argsort(power_list)[::-1]\n"
   ]
  },
  {
   "cell_type": "code",
   "execution_count": 5,
   "metadata": {},
   "outputs": [
    {
     "name": "stdout",
     "output_type": "stream",
     "text": [
      "Moviepy - Building video ../data/SPK20220308/videos_beta_power/SpikeCam6_03-08-1557_beta_sort.mp4.\n",
      "Moviepy - Writing video ../data/SPK20220308/videos_beta_power/SpikeCam6_03-08-1557_beta_sort.mp4\n",
      "\n"
     ]
    },
    {
     "name": "stderr",
     "output_type": "stream",
     "text": [
      "                                                                   \r"
     ]
    },
    {
     "name": "stdout",
     "output_type": "stream",
     "text": [
      "Moviepy - Done !\n",
      "Moviepy - video ready ../data/SPK20220308/videos_beta_power/SpikeCam6_03-08-1557_beta_sort.mp4\n"
     ]
    }
   ],
   "source": [
    "estart_times = tgtON[power_sort]\n",
    "estop_times = endhold[power_sort]\n",
    "\n",
    "for cam_idx in range(5,6):\n",
    "    clip = moviepy.editor.VideoFileClip(f'../data/SPK20220308/videos/SpikeCam{cam_idx}_03-08-1557.mp4')\n",
    "\n",
    "    clip_list = list()\n",
    "    for trial_idx, (tstart, tstop) in enumerate(zip(estart_times - 1, estop_times)):\n",
    "        trial_clip = clip.subclip(tstart - cam_start, tstop - cam_start)\n",
    "        clip_list.append(trial_clip)\n",
    "\n",
    "\n",
    "    # concatenating both the clips\n",
    "    final = moviepy.editor.concatenate_videoclips(clip_list)\n",
    "\n",
    "    #writing the video into a file / saving the combined video\n",
    "    final.write_videofile(f'../data/SPK20220308/videos_beta_power/SpikeCam{cam_idx}_03-08-1557_beta_sort.mp4', fps=40)\n"
   ]
  },
  {
   "cell_type": "code",
   "execution_count": null,
   "metadata": {},
   "outputs": [],
   "source": []
  },
  {
   "cell_type": "code",
   "execution_count": 7,
   "metadata": {},
   "outputs": [],
   "source": [
    "# Stack clips into array\n",
    "clip_list = list()\n",
    "for cam_idx in [1,6]:\n",
    "    clip = moviepy.editor.VideoFileClip(f'../data/SPK20220308/videos_beta_power/SpikeCam{cam_idx}_03-08-1557_beta_sort.mp4')\n",
    "    clip_list.append(clip)\n",
    "clips_array = [[clip_list[0], clip_list[1]]]"
   ]
  },
  {
   "cell_type": "code",
   "execution_count": 8,
   "metadata": {},
   "outputs": [
    {
     "name": "stdout",
     "output_type": "stream",
     "text": [
      "Moviepy - Building video Spike_03-08-1557_beta_sort_combined.mp4.\n",
      "Moviepy - Writing video Spike_03-08-1557_beta_sort_combined.mp4\n",
      "\n"
     ]
    },
    {
     "name": "stderr",
     "output_type": "stream",
     "text": [
      "                                                                     \r"
     ]
    },
    {
     "name": "stdout",
     "output_type": "stream",
     "text": [
      "Moviepy - Done !\n",
      "Moviepy - video ready Spike_03-08-1557_beta_sort_combined.mp4\n"
     ]
    }
   ],
   "source": [
    "final_clip = moviepy.editor.clips_array(clips_array)\n",
    "final_clip.write_videofile(\"Spike_03-08-1557_beta_sort_combined.mp4\")"
   ]
  },
  {
   "cell_type": "code",
   "execution_count": null,
   "metadata": {},
   "outputs": [],
   "source": []
  }
 ],
 "metadata": {
  "kernelspec": {
   "display_name": "base",
   "language": "python",
   "name": "python3"
  },
  "language_info": {
   "codemirror_mode": {
    "name": "ipython",
    "version": 3
   },
   "file_extension": ".py",
   "mimetype": "text/x-python",
   "name": "python",
   "nbconvert_exporter": "python",
   "pygments_lexer": "ipython3",
   "version": "3.9.12 (main, Apr  5 2022, 06:56:58) \n[GCC 7.5.0]"
  },
  "orig_nbformat": 4,
  "vscode": {
   "interpreter": {
    "hash": "d0efaeb1f57b331682f483338b2ece2b224a46046d22ccab062f7cb485953279"
   }
  }
 },
 "nbformat": 4,
 "nbformat_minor": 2
}
