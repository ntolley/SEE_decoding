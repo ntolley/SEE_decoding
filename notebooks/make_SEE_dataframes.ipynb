{
 "cells": [
  {
   "cell_type": "code",
   "execution_count": 1,
   "metadata": {},
   "outputs": [
    {
     "name": "stdout",
     "output_type": "stream",
     "text": [
      "\n",
      "WARNING: Xgboost package is not installed. You will be unable to use the xgboost decoder\n",
      "\n",
      "WARNING: Keras package is not installed. You will be unable to use all neural net decoders\n"
     ]
    }
   ],
   "source": [
    "import sys\n",
    "sys.path.append('../code') \n",
    "import mocap_functions\n",
    "import numpy as np\n",
    "import pandas as pd\n",
    "import neo\n",
    "import matplotlib.pyplot as plt\n",
    "import scipy.io as sio\n",
    "from scipy import signal\n",
    "from scipy.interpolate import interp1d\n",
    "import spike_train_functions\n",
    "import elephant\n",
    "import quantities as pq\n",
    "# import h5py\n",
    "from sklearn.model_selection import ShuffleSplit\n",
    "from sklearn.linear_model import LinearRegression\n",
    "from sklearn.decomposition import PCA\n",
    "from sklearn.preprocessing import StandardScaler\n",
    "import torch\n",
    "import torch\n",
    "from torch import nn\n",
    "import torch.nn.functional as F\n",
    "from joblib import Parallel, delayed\n",
    "import multiprocessing\n",
    "import Neural_Decoding\n",
    "import pickle\n",
    "import seaborn as sns\n",
    "from functools import partial\n",
    "from hnn_core.utils import smooth_waveform\n",
    "sns.set()\n",
    "sns.set_style(\"white\")\n",
    "\n",
    "num_cores = multiprocessing.cpu_count()\n",
    "scaler = StandardScaler()\n",
    "\n",
    "# CUDA for PyTorch\n",
    "use_cuda = torch.cuda.is_available()\n",
    "#device = torch.device(\"cuda:0\")\n",
    "device = torch.device('cpu')\n",
    "\n",
    "torch.backends.cudnn.benchmark = True"
   ]
  },
  {
   "cell_type": "code",
   "execution_count": 2,
   "metadata": {},
   "outputs": [],
   "source": [
    "video_path = '../data/SPK20220308/motion_tracking'\n",
    "\n",
    "pos_fnames = f'{video_path}/Spike03-08-1557_DLC3D_resnet50_DLCnetwork3D_Spike03-08-1557Sep7shuffle1_500000_AllCam.csv'\n",
    "\n",
    "eyes_path = f'{video_path}/SpikeCam5_EYES_03-08-1557DLC_resnet50_DLC-eyesNov4shuffle1_40000_el.csv'"
   ]
  },
  {
   "cell_type": "markdown",
   "metadata": {},
   "source": [
    "## Load Raw Data"
   ]
  },
  {
   "cell_type": "code",
   "execution_count": 3,
   "metadata": {},
   "outputs": [],
   "source": [
    "cam_df = pd.read_csv(pos_fnames)\n",
    "\n",
    "# Subtract wrist marker from fingers\n",
    "forelimb_markers = ['carpal', 'radiusProx', 'radiusDistal', 'ulnarProx', 'ulnarDistal']\n",
    "wrist_marker = 'carpal'\n",
    "forelimb_mask = np.logical_or.reduce([cam_df.columns.str.contains(pat=pat) for pat in forelimb_markers])\n",
    "finger_mask = np.invert(forelimb_mask)\n",
    "\n",
    "for marker_name in cam_df.columns[finger_mask]:\n",
    "    if '_x' in marker_name:\n",
    "        cam_df[marker_name] = cam_df[marker_name] - cam_df[f'{wrist_marker}_x']\n",
    "    elif '_y' in marker_name:\n",
    "        cam_df[marker_name] = cam_df[marker_name] - cam_df[f'{wrist_marker}_y']\n",
    "        \n",
    "# Calculate grip aperture\n",
    "cam_df['grip_aperture'] = np.sqrt(\n",
    "    np.square(cam_df['thumbDistal_x'] - cam_df['indexProx_x']) + \n",
    "    np.square(cam_df['thumbDistal_y'] - cam_df['indexProx_y']))\n",
    "\n",
    "# Load eyes and concatenate marker information into column names from first 3 rows\n",
    "eyes_df = pd.read_csv(eyes_path, header=[1,2,3]).iloc[:,1:]\n",
    "eyes_df.columns = ['_'.join(eyes_df.columns[idx]) for idx in range(len(eyes_df.columns))]\n",
    "\n",
    "# Add columns from eyes_df\n",
    "cam_df = pd.concat([cam_df, eyes_df], axis=1)\n",
    "\n",
    "pos_mask = np.logical_or.reduce((cam_df.columns.str.contains(pat='_x'), cam_df.columns.str.contains(pat='_y'), \n",
    "                                 cam_df.columns.str.contains(pat='_z')))\n",
    "marker_names = cam_df.columns[pos_mask].values.tolist()"
   ]
  },
  {
   "cell_type": "code",
   "execution_count": 4,
   "metadata": {},
   "outputs": [
    {
     "name": "stdout",
     "output_type": "stream",
     "text": [
      "| pinkyDistal_y 0.99 | pinkyDistal_x 0.99 | pinkyMid_y 0.99 | pinkyMid_x 0.99 | pinkyDistal_z 0.99 | pinkyDistal_error 0.99 | ringDistal_y 0.98 | ringDistal_x 0.98 | pinkyMid_error 0.98 | pinkyMid_z 0.98 | ringMid_x 0.97 | ringMid_y 0.97 | ringTip_x 0.97 | ringTip_y 0.97 | pinkyTip_y 0.96 | pinkyTip_x 0.96 | ringDistal_z 0.96 | ringDistal_error 0.96 | pinkyTip_z 0.96 | pinkyTip_error 0.96 | ringMid_z 0.95 | ringMid_error 0.95 | ringTip_error 0.95 | ringTip_z 0.95 | middleTip_y 0.86 | middleTip_x 0.86 | ulnarProx_z 0.85 | ulnarProx_y 0.85 | ulnarProx_x 0.85 | ulnarProx_error 0.85 | middleTip_error 0.83 | middleTip_z 0.83 | radiusProx_error 0.75 | radiusProx_z 0.75 | radiusProx_y 0.75 | radiusProx_x 0.75 | righteye_pupiltop_y 0.65 | righteye_pupiltop_x 0.65 | indextip_y 0.57 | indextip_x 0.57 | indextip_error 0.53 | indextip_z 0.53 | ulnarDistal_error 0.48 | ulnarDistal_x 0.48 | ulnarDistal_y 0.48 | ulnarDistal_z 0.48 | lefteye_pupiltop_x 0.43 | lefteye_pupiltop_y 0.43 | pinkyProx_y 0.41 | pinkyProx_x 0.41 | ringProx_y 0.38 | ringProx_x 0.38 | pinkyProx_error 0.37 | pinkyProx_z 0.37 | ringProx_error 0.33 | ringProx_z 0.33 | middleDistal_x 0.33 | middleDistal_y 0.33 | indexDistal_x 0.29 | indexDistal_y 0.29 | thumbtip_y 0.28 | thumbtip_x 0.28 | single_cornealRefR_y 0.26 | single_cornealRefR_likelihood 0.26 | single_cornealRefR_x 0.26 | middleDistal_error 0.26 | middleDistal_z 0.26 | indexMid_y 0.23 | indexMid_x 0.23 | thumbtip_error 0.23 | thumbtip_z 0.23 | middleMid_x 0.22 | middleMid_y 0.22 | indexDistal_z 0.22 | indexDistal_error 0.22 | grip_aperture 0.2 | thumbDistal_y 0.19 | thumbDistal_x 0.19 | middleProx_x 0.18 | middleProx_y 0.18 | radiusDistal_x 0.18 | radiusDistal_error 0.18 | radiusDistal_z 0.18 | radiusDistal_y 0.18 | thumbProx_y 0.17 | thumbProx_x 0.17 | indexProx_x 0.16 | indexProx_y 0.16 | indexMid_z 0.14 | indexMid_error 0.14 | middleMid_z 0.13 | middleMid_error 0.13 | carpal_x 0.12 | carpal_y 0.12 | carpal_error 0.12 | carpal_z 0.12 | thumbDistal_z 0.12 | thumbDistal_error 0.12 | thumbProx_error 0.1 | thumbProx_z 0.1 | righteye_pupiloutside_x 0.1 | righteye_pupiloutside_y 0.1 | righteye_pupilcenter_x 0.09 | righteye_pupilcenter_y 0.09 | middleProx_error 0.09 | middleProx_z 0.09 | righteye_pupilinside_y 0.09 | righteye_pupilinside_x 0.09 | lefteye_pupilinside_y 0.08 | lefteye_pupilinside_x 0.08 | righteye_pupilbottom_y 0.08 | righteye_pupilbottom_x 0.08 | righteye_outsideeye_x 0.07 | righteye_outsideeye_y 0.07 | righteye_insideeye_x 0.07 | righteye_insideeye_y 0.07 | righteye_pupiltop_likelihood 0.07 | righteye_pupilinside_likelihood 0.07 | righteye_pupilbottom_likelihood 0.07 | righteye_pupiloutside_likelihood 0.07 | righteye_insideeye_likelihood 0.07 | righteye_pupilcenter_likelihood 0.07 | righteye_outsideeye_likelihood 0.07 | lefteye_pupiloutside_x 0.07 | lefteye_pupiloutside_y 0.07 | indexProx_error 0.05 | indexProx_z 0.05 | lefteye_pupilbottom_y 0.05 | lefteye_pupilbottom_x 0.05 | lefteye_pupilcenter_x 0.05 | lefteye_pupilcenter_y 0.05 | lefteye_insideeye_y 0.05 | lefteye_insideeye_x 0.05 | lefteye_outsideeye_y 0.05 | lefteye_outsideeye_x 0.05 | lefteye_outsideeye_likelihood 0.05 | lefteye_pupilcenter_likelihood 0.05 | lefteye_pupiloutside_likelihood 0.05 | lefteye_pupiltop_likelihood 0.05 | lefteye_insideeye_likelihood 0.05 | lefteye_pupilbottom_likelihood 0.05 | lefteye_pupilinside_likelihood 0.05 "
     ]
    }
   ],
   "source": [
    "# Inspect proportion of NaNs where tracking lost\n",
    "null_percent = cam_df.isnull().astype(int).sum().values / len(cam_df)\n",
    "sort_indices = np.argsort(null_percent)[::-1]\n",
    "\n",
    "for name, val in zip(cam_df.columns[sort_indices], null_percent[sort_indices]):\n",
    "    print(f'| {name} {np.round(val, 2)}', end=' ')"
   ]
  },
  {
   "cell_type": "code",
   "execution_count": 5,
   "metadata": {},
   "outputs": [],
   "source": [
    "# Interpolate on NaN values\n",
    "cam_df = cam_df.interpolate(method='cubic')\n",
    "\n",
    "# Set threshold for likelihood\n",
    "score_threshold = 0.5\n",
    "\n",
    "# Pull out marker names stripped of suffix (only markers have scores and likelihood DLC variables)\n",
    "score_mask = cam_df.columns.str.contains(pat='_x')\n",
    "score_names = cam_df.columns[score_mask].values\n",
    "marker_names_stripped = cam_df.columns[score_mask].str.split('_').str[:-1].str.join('_').values\n",
    "\n",
    "# marker_pos_names indicates which vars are stored in kinematic_df. Only append _x, _y, _z markers\n",
    "marker_pos_names = list()\n",
    "for mrk_name in marker_names_stripped:\n",
    "    # Separate likelihood and position data for \n",
    "    mrk_pos_mask = np.logical_and(cam_df.columns.str.contains(pat=mrk_name), \n",
    "                                    np.logical_or.reduce((cam_df.columns.str.contains(pat='_x'), \n",
    "                                                          cam_df.columns.str.contains(pat='_y'),\n",
    "                                                          cam_df.columns.str.contains(pat='_z')\n",
    "                                                          )))   \n",
    "    # There should only be 1 likelihood variable, and 2 or 3 position variables\n",
    "    #assert np.sum(mrk_pos_mask) == 2 or np.sum(mrk_pos_mask) == 3\n",
    "    pos_name_list = cam_df.columns[mrk_pos_mask].values.tolist()\n",
    "    marker_pos_names.extend(pos_name_list)\n",
    "\n",
    "\n",
    "    for pos_name in pos_name_list:\n",
    "        pos_data = cam_df[pos_name]\n",
    "        \n",
    "        # Remove nans (need to test with interpolation)\n",
    "        pos_data = np.nan_to_num(pos_data, copy=True, nan=0.0)\n",
    "        \n",
    "        # Update dataframe\n",
    "        cam_df[pos_name] = pos_data\n",
    "\n"
   ]
  },
  {
   "cell_type": "code",
   "execution_count": null,
   "metadata": {},
   "outputs": [],
   "source": []
  },
  {
   "cell_type": "code",
   "execution_count": null,
   "metadata": {},
   "outputs": [],
   "source": []
  },
  {
   "cell_type": "code",
   "execution_count": 6,
   "metadata": {},
   "outputs": [
    {
     "name": "stderr",
     "output_type": "stream",
     "text": [
      "/home/ntolley/anaconda3/lib/python3.9/site-packages/neo/rawio/blackrockrawio.py:442: FutureWarning: Using a non-tuple sequence for multidimensional indexing is deprecated; use `arr[tuple(seq)]` instead of `arr[seq]`. In the future this will be interpreted as an array index, `arr[np.array(seq)]`, which will result either in an error or a different result.\n",
      "  curr_data = data[mask]\n"
     ]
    }
   ],
   "source": [
    "cb_dict = dict()\n",
    "fpath = '../data/SPK20220308/task_data/'\n",
    "unit_idx = 0\n",
    "for cb_idx in range(1,3):\n",
    "    # Use neo module to load blackrock files\n",
    "    experiment_dict = sio.loadmat(f'{fpath}SPKRH20220308_CB{cb_idx}_ev_explicit.mat')\n",
    "    nev = neo.io.BlackrockIO(f'{fpath}SPKRH20220308_CB{cb_idx}_quiver4toyPKPK4Rotation_delay_001_RETVR_DSXII_corrected.nev')\n",
    "    ns2 = neo.io.BlackrockIO(f'{fpath}SPKRH20220308_CB{cb_idx}_quiver4toyPKPK4Rotation_delay_001.ns2')\n",
    "\n",
    "    sampling_rate_list = ns2.header['signal_channels'][['name','sampling_rate']]\n",
    "    sampling_rate = 30000\n",
    "    analog_sampling_rate = 1000\n",
    "    eye_sampling_rate = 500\n",
    "    camera_sampling_rate = 40\n",
    "\n",
    "    # nev seg holds spike train information to extract\n",
    "    nev_seg = nev.read_segment()\n",
    "    tstart = nev_seg.t_start.item()\n",
    "    tstop = nev_seg.t_stop.item()\n",
    "\n",
    "    # Group spiketrain timestamps by unit id\n",
    "    unit_timestamps = dict()\n",
    "    for st in nev_seg.spiketrains:\n",
    "        if st.annotations['unit_id'] == 1:\n",
    "            unit_timestamps[unit_idx] = st.times\n",
    "            unit_idx += 1\n",
    "\n",
    "    # Grab indeces for camera frames\n",
    "    cam_trigger = ns2.get_analogsignal_chunk(channel_names=['FlirCam']).transpose()[0]\n",
    "    num_analog_samples = len(cam_trigger)\n",
    "    trigger_val = 18000 # threshold where rising edge aligns frame, may need to tweak\n",
    "    cam_frames = np.flatnonzero((cam_trigger[:-1] < trigger_val) & (cam_trigger[1:] > trigger_val))+1\n",
    "\n",
    "    cb_dict[f'cb{cb_idx}'] = {'tstart': tstart, 'tstop': tstop, 'unit_timestamps': unit_timestamps,\n",
    "                              'cam_frames': cam_frames, 'experiment_dict': experiment_dict}\n"
   ]
  },
  {
   "cell_type": "code",
   "execution_count": null,
   "metadata": {},
   "outputs": [],
   "source": []
  },
  {
   "cell_type": "code",
   "execution_count": null,
   "metadata": {},
   "outputs": [],
   "source": []
  },
  {
   "cell_type": "code",
   "execution_count": 7,
   "metadata": {},
   "outputs": [],
   "source": [
    "experiment_dict = cb_dict['cb1']['experiment_dict']\n",
    "cam_frames =  cb_dict['cb1']['cam_frames']\n",
    "\n",
    "experiment_dict_corrected = sio.loadmat(f'{fpath}eventsCB1_corrected.mat')\n",
    "ev_ex_corrected = experiment_dict_corrected['eventsCB1']\n",
    "\n",
    "#Load variables from struct (struct indexing is unfortunately hideous)\n",
    "ev_ex = experiment_dict['df']\n",
    "tgtON = ev_ex['tgtON_C'][0][0][0]\n",
    "gocON = ev_ex['gocON_C'][0][0][0]\n",
    "#gocOFF = ev_ex['gocOFF'][0][0][0]\n",
    "#stmv = ev_ex['stmv'][0][0][0]\n",
    "contact = ev_ex['contact_C'][0][0][0]\n",
    "endhold = ev_ex['endhold_C'][0][0][0]\n",
    "layout = ev_ex_corrected['LAYOUT_C'][0][0][0]\n",
    "position = ev_ex_corrected['POSITION_C'][0][0][0]\n",
    "#reward = ev_ex['reward'][0][0][0]\n",
    "#error = ev_ex['error'][0][0][0]"
   ]
  },
  {
   "cell_type": "code",
   "execution_count": 8,
   "metadata": {},
   "outputs": [],
   "source": [
    "#Define game event for alignment, and window around marker\n",
    "event_ts = list(zip(gocON, endhold))\n",
    "#e_start, e_stop = [-3, 0]\n",
    "num_events = len(event_ts)"
   ]
  },
  {
   "cell_type": "code",
   "execution_count": 9,
   "metadata": {},
   "outputs": [],
   "source": [
    "# Find scale/timeshift between CB1 and CB2\n",
    "cb2_align_ts = cb_dict['cb2']['experiment_dict']['df']['gocON_C'][0][0][0]\n",
    "assert len(cb2_align_ts) == len(gocON) \n",
    "cb2_start, cb2_end = cb2_align_ts[0], cb2_align_ts[-1]\n",
    "\n",
    "ts_shift = gocON[0] - cb2_start \n",
    "ts_scale = (cb2_end - cb2_start) / (gocON[-1] -  gocON[0])\n"
   ]
  },
  {
   "cell_type": "code",
   "execution_count": 10,
   "metadata": {},
   "outputs": [],
   "source": [
    "unit_timestamps = cb_dict['cb1']['unit_timestamps'].copy()\n",
    "\n",
    "# Shift and scale time stamps between the two machines\n",
    "unit_timestamps_cb2 = cb_dict['cb2']['unit_timestamps'].copy()\n",
    "unit_timestamps_cb2_corrected = dict()\n",
    "for unit_idx, unit_ts in unit_timestamps_cb2.items():\n",
    "    ts_corrected = (unit_ts + ts_shift * (pq.s)) / (ts_scale * pq.s)\n",
    "    unit_timestamps_cb2_corrected[unit_idx] = ts_corrected\n",
    "\n",
    "\n",
    "unit_timestamps.update(unit_timestamps_cb2_corrected)\n"
   ]
  },
  {
   "cell_type": "code",
   "execution_count": 11,
   "metadata": {},
   "outputs": [],
   "source": [
    "# np.save('cam_frames.npy', cam_frames)"
   ]
  },
  {
   "cell_type": "code",
   "execution_count": 12,
   "metadata": {},
   "outputs": [
    {
     "name": "stdout",
     "output_type": "stream",
     "text": [
      "0 1 2 3 4 5 6 7 8 9 10 11 12 13 14 15 16 17 18 19 20 21 22 23 24 25 26 27 28 29 30 31 32 33 34 35 36 37 38 39 40 41 42 43 44 45 46 47 48 49 50 51 52 53 54 55 56 57 58 59 60 61 62 63 64 65 66 67 68 69 70 71 72 73 74 75 76 77 78 79 80 81 82 83 84 85 86 87 88 89 90 91 92 93 94 95 96 97 98 99 100 101 102 103 104 105 106 107 108 109 110 111 112 113 114 115 116 117 118 119 120 121 122 123 124 125 126 127 128 129 130 131 132 133 134 135 136 137 138 139 140 141 142 143 144 145 146 147 148 149 150 151 152 153 154 155 156 157 158 159 160 161 162 163 164 165 166 167 168 169 170 171 172 173 174 175 176 177 178 179 180 181 182 183 184 185 186 187 188 189 190 191 192 193 194 195 196 197 198 199 200 201 202 203 204 205 206 207 208 209 210 211 212 213 214 215 216 217 "
     ]
    }
   ],
   "source": [
    "#Append convolved firing rates to dataframe\n",
    "kernel_halfwidth = 0.250 #in seconds\n",
    "#kernel = elephant.kernels.RectangularKernel(sigma=kernel_halfwidth/np.sqrt(3)*pq.s) \n",
    "kernel = elephant.kernels.ExponentialKernel(sigma=kernel_halfwidth/np.sqrt(3)*pq.s) \n",
    "sampling_period = 0.01*pq.s\n",
    "\n",
    "#List to store neural data\n",
    "rate_col = list()\n",
    "unit_col = list()\n",
    "trial_col_neural = list()\n",
    "layout_col_neural = list()\n",
    "position_col_neural = list()\n",
    "\n",
    "#List to store kinematic data\n",
    "posData_col = list()\n",
    "name_col = list()\n",
    "trial_col_kinematic = list()\n",
    "layout_col_kinematic = list()\n",
    "position_col_kinematic = list()\n",
    "\n",
    "kinematic_metadata = dict()\n",
    "neural_metadata = dict()\n",
    "for e_idx, (e_start, e_stop) in enumerate(event_ts):\n",
    "    window_length = int((e_stop - e_start) / (sampling_period).item())\n",
    "    print(e_idx, end=' ')\n",
    "    \n",
    "    # Load kinematic data\n",
    "    # Identify which frames fall in the time window\n",
    "    frame_mask = np.logical_and(cam_frames > (e_start * analog_sampling_rate), cam_frames < (e_stop * analog_sampling_rate))\n",
    "    frame_idx = np.flatnonzero(frame_mask) #Pull out indeces of valid frames\n",
    "    kinematic_metadata[e_idx] = {'time_data':np.linspace(e_start, e_stop, window_length)}\n",
    "    \n",
    "    for mkr in marker_pos_names:\n",
    "        marker_pos = cam_df[mkr].values[frame_idx]\n",
    "        f = interp1d(np.linspace(0,1,marker_pos.size), marker_pos)\n",
    "        marker_interp = f(np.linspace(0,1,window_length))\n",
    "        \n",
    "        posData_col.append(marker_interp)\n",
    "        name_col.append(mkr)\n",
    "        trial_col_kinematic.append(e_idx)\n",
    "        layout_col_kinematic.append(layout[e_idx])\n",
    "        position_col_kinematic.append(position[e_idx])\n",
    "    \n",
    "    # Load neural data\n",
    "    for unit_idx, unit_ts in unit_timestamps.items():\n",
    "        rate = spike_train_functions.spike_train_rates(unit_ts, e_start, e_stop + 0.1 , sampling_rate, kernel, sampling_period).transpose()\n",
    "        rate = rate[0][:window_length]\n",
    "\n",
    "        rate_col.append(rate)\n",
    "        trial_col_neural.append(e_idx)\n",
    "        layout_col_neural.append(layout[e_idx])\n",
    "        position_col_neural.append(position[e_idx])\n",
    "        unit_col.append(str(unit_idx))\n",
    "        neural_metadata[e_idx] = {'time_data':frame_idx}\n",
    "\n",
    "    # One hot encoding of layout information\n",
    "    for layout_idx in range(1,5):\n",
    "        onehot_data = np.repeat(layout_idx == layout[e_idx], window_length).astype(int)\n",
    "\n",
    "        # Kinematic\n",
    "        posData_col.append(onehot_data)\n",
    "        name_col.append(f'layout_{layout_idx}')\n",
    "        trial_col_kinematic.append(e_idx)\n",
    "        layout_col_kinematic.append(layout[e_idx])\n",
    "        position_col_kinematic.append(position[e_idx])\n",
    "\n",
    "        # Neural\n",
    "        rate_col.append(onehot_data)\n",
    "        unit_col.append(f'layout_{layout_idx}')\n",
    "        trial_col_neural.append(e_idx)\n",
    "        layout_col_neural.append(layout[e_idx])\n",
    "        position_col_neural.append(position[e_idx])\n",
    "        neural_metadata[e_idx] = {'time_data':frame_idx}\n",
    "\n",
    "    # One hot encoding of position information\n",
    "    # for position_idx in range(1,5):\n",
    "    #     onehot_data = np.repeat(position_idx == position[e_idx], window_length).astype(int)\n",
    "\n",
    "    #     # Kinematic\n",
    "    #     posData_col.append(onehot_data)\n",
    "    #     name_col.append(f'position_{position_idx}')\n",
    "    #     trial_col_kinematic.append(e_idx)\n",
    "    #     layout_col_kinematic.append(layout[e_idx])\n",
    "    #     position_col_kinematic.append(position[e_idx])\n",
    "\n",
    "    #     # Neural\n",
    "    #     rate_col.append(onehot_data)\n",
    "    #     unit_col.append(f'position_{position_idx}')\n",
    "    #     trial_col_neural.append(e_idx)\n",
    "    #     layout_col_neural.append(layout[e_idx])\n",
    "    #     position_col_neural.append(position[e_idx])\n",
    "    #     neural_metadata[e_idx] = {'time_data':frame_idx}\n",
    "        \n",
    "#Pickle convolved rates\n",
    "neural_dict = {'rates':rate_col, 'unit':unit_col, 'trial':trial_col_neural,\n",
    "               'layout': layout_col_neural, 'position': position_col_neural}\n",
    "neural_df = pd.DataFrame(neural_dict)\n",
    "neural_df['count'] = neural_df['rates'].apply(np.sum)\n",
    "\n",
    "\n",
    "kinematic_dict = {'name':name_col, 'posData':posData_col, 'trial':trial_col_kinematic,\n",
    "                  'layout': layout_col_kinematic, 'position': position_col_kinematic}\n",
    "kinematic_df = pd.DataFrame(kinematic_dict)\n",
    "\n",
    "metadata={'kinematic_metadata':kinematic_metadata, 'neural_metadata':neural_metadata, 'num_trials':num_events, 'kernel_halfwidth':kernel_halfwidth}\n"
   ]
  },
  {
   "cell_type": "code",
   "execution_count": null,
   "metadata": {},
   "outputs": [],
   "source": []
  },
  {
   "cell_type": "code",
   "execution_count": 13,
   "metadata": {},
   "outputs": [],
   "source": [
    "carpal_df = kinematic_df[kinematic_df['name'].str.match(pat='carpal')]"
   ]
  },
  {
   "cell_type": "code",
   "execution_count": 14,
   "metadata": {},
   "outputs": [
    {
     "data": {
      "image/png": "[encoded data removed]",
      "text/plain": [
       "<Figure size 720x720 with 9 Axes>"
      ]
     },
     "metadata": {
      "needs_background": "light"
     },
     "output_type": "display_data"
    }
   ],
   "source": [
    "plt.figure(figsize=(10,10))\n",
    "for idx in range(9):\n",
    "    pidx = (idx * 4) + 60\n",
    "    plt.subplot(3,3,idx+1)\n",
    "    for line_idx in range(4):\n",
    "        plot_data = carpal_df['posData'].values[pidx + line_idx]\n",
    "        #plt.plot((plot_data - plot_data[0]) / np.max(np.abs(plot_data - plot_data[0])))\n",
    "        plt.plot(plot_data)\n",
    "    plt.xlim(0, 300)\n",
    "\n",
    "plt.tight_layout()"
   ]
  },
  {
   "cell_type": "code",
   "execution_count": 15,
   "metadata": {},
   "outputs": [],
   "source": [
    "#Save DataFrames to temporary folder\n",
    "kinematic_df.to_pickle(fpath + 'kinematic_df.pkl')\n",
    "neural_df.to_pickle(fpath + 'neural_df.pkl')\n",
    "\n",
    "#Save metadata\n",
    "output = open(fpath + 'metadata.pkl', 'wb')\n",
    "pickle.dump(metadata, output)\n",
    "output.close()"
   ]
  },
  {
   "cell_type": "code",
   "execution_count": 16,
   "metadata": {},
   "outputs": [],
   "source": [
    "output = open(fpath + 'cb_dict.pkl', 'wb')\n",
    "pickle.dump(cb_dict, output)\n",
    "output.close()"
   ]
  },
  {
   "cell_type": "code",
   "execution_count": null,
   "metadata": {},
   "outputs": [],
   "source": []
  },
  {
   "cell_type": "markdown",
   "metadata": {},
   "source": [
    "## Analyze Data"
   ]
  },
  {
   "cell_type": "code",
   "execution_count": null,
   "metadata": {},
   "outputs": [],
   "source": [
    "kinematic_df, neural_df, metadata = mocap_functions.load_mocap_df('../data/SPK20220308/task_data/')\n",
    "\n",
    "sampling_rate = 100\n",
    "kernel_offset = int(metadata['kernel_halfwidth'] * sampling_rate)  #Convolution kernel centered at zero, add to neural offset\n",
    "neural_offset = 20\n",
    "offset = neural_offset + kernel_offset\n",
    "window_size = 10\n",
    "data_step_size = 1 \n",
    "\n",
    "num_trials = metadata['num_trials']\n",
    "\n",
    "#Generate cv_dict for regular train/test/validate split (no rolling window)\n",
    "cv_split = ShuffleSplit(n_splits=5, test_size=.25, random_state=0)\n",
    "val_split = ShuffleSplit(n_splits=1, test_size=.25, random_state=0)\n",
    "cv_dict = {}\n",
    "for fold, (train_val_idx, test_idx) in enumerate(cv_split.split(np.arange(num_trials))):\n",
    "    for t_idx, v_idx in val_split.split(train_val_idx): #No looping, just used to split train/validation sets\n",
    "        cv_dict[fold] = {'train_idx':train_val_idx[t_idx], \n",
    "                         'test_idx':test_idx, \n",
    "                         'validation_idx':train_val_idx[v_idx]} "
   ]
  },
  {
   "cell_type": "code",
   "execution_count": null,
   "metadata": {},
   "outputs": [],
   "source": []
  },
  {
   "cell_type": "code",
   "execution_count": null,
   "metadata": {},
   "outputs": [],
   "source": []
  },
  {
   "cell_type": "code",
   "execution_count": null,
   "metadata": {},
   "outputs": [],
   "source": []
  },
  {
   "cell_type": "code",
   "execution_count": null,
   "metadata": {},
   "outputs": [],
   "source": [
    "# Set up PyTorch Dataloaders\n",
    "fold=0\n",
    "kinematic_type = 'posData'\n",
    "# Parameters\n",
    "batch_size = 10000\n",
    "train_params = {'batch_size': batch_size, 'shuffle': True, 'num_workers': num_cores, 'pin_memory':False}\n",
    "train_eval_params = {'batch_size': batch_size, 'shuffle': False, 'num_workers': num_cores, 'pin_memory':False}\n",
    "validation_params = {'batch_size': batch_size, 'shuffle': True, 'num_workers': num_cores, 'pin_memory':False}\n",
    "test_params = {'batch_size': batch_size, 'shuffle': False, 'num_workers': num_cores, 'pin_memory':False}\n",
    "\n",
    "predict_kinematics=False\n",
    "# Generators\n",
    "training_set = mocap_functions.SEE_Dataset(cv_dict, fold, 'train_idx', kinematic_df, neural_df, offset, window_size, \n",
    "                                            data_step_size, device, 'posData', True, predict_kinematics)\n",
    "training_generator = torch.utils.data.DataLoader(training_set, **train_params)\n",
    "training_eval_generator = torch.utils.data.DataLoader(training_set, **train_eval_params)\n",
    "X_train_data = training_set[:][0][:,-1,:].detach().cpu().numpy()\n",
    "y_train_data = training_set[:][1][:,-1,:].detach().cpu().numpy()\n",
    "\n",
    "validation_set = mocap_functions.SEE_Dataset(cv_dict, fold, 'validation_idx', kinematic_df, neural_df, offset, window_size, \n",
    "                                                data_step_size, device, 'posData', True, predict_kinematics)\n",
    "validation_generator = torch.utils.data.DataLoader(validation_set, **validation_params)\n",
    "\n",
    "testing_set = mocap_functions.SEE_Dataset(cv_dict, fold, 'test_idx', kinematic_df, neural_df, offset, window_size, \n",
    "                                                data_step_size, device, 'posData', True, predict_kinematics)\n",
    "testing_generator = torch.utils.data.DataLoader(testing_set, **test_params)\n",
    "X_test_data = testing_set[:][0][:,-1,:].detach().cpu().numpy()\n",
    "y_test_data = testing_set[:][1][:,-1,:].detach().cpu().numpy()"
   ]
  },
  {
   "cell_type": "code",
   "execution_count": null,
   "metadata": {},
   "outputs": [],
   "source": []
  },
  {
   "cell_type": "code",
   "execution_count": null,
   "metadata": {},
   "outputs": [],
   "source": []
  },
  {
   "cell_type": "code",
   "execution_count": null,
   "metadata": {},
   "outputs": [],
   "source": []
  },
  {
   "cell_type": "markdown",
   "metadata": {},
   "source": [
    "Kalman Filter decoding"
   ]
  },
  {
   "cell_type": "code",
   "execution_count": null,
   "metadata": {},
   "outputs": [],
   "source": [
    "#Fit and run kalman filter\n",
    "model_kf = Neural_Decoding.decoders.WienerFilterDecoder() \n",
    "model_kf.fit(X_train_data,y_train_data)\n",
    "\n",
    "kf_train_pred = model_kf.predict(X_train_data)\n",
    "kf_test_pred = model_kf.predict(X_test_data)\n",
    "\n",
    "#Compute decoding performance\n",
    "kf_train_corr = mocap_functions.matrix_corr(kf_train_pred,y_train_data)\n",
    "kf_test_corr = mocap_functions.matrix_corr(kf_test_pred,y_test_data)\n"
   ]
  },
  {
   "cell_type": "code",
   "execution_count": null,
   "metadata": {},
   "outputs": [],
   "source": [
    "%matplotlib inline\n",
    "plt.imshow(kf_test_pred,aspect='auto')"
   ]
  },
  {
   "cell_type": "code",
   "execution_count": null,
   "metadata": {},
   "outputs": [],
   "source": []
  },
  {
   "cell_type": "markdown",
   "metadata": {},
   "source": [
    "ANN Decoding"
   ]
  },
  {
   "cell_type": "code",
   "execution_count": null,
   "metadata": {},
   "outputs": [],
   "source": [
    "#Define hyperparameters\n",
    "lr = 1e-2\n",
    "weight_decay = 1e-5\n",
    "layer_size=[10]\n",
    "max_epochs=1000\n",
    "input_size = training_set[0][0].shape[1] \n",
    "output_size = training_set[0][1].shape[1] \n",
    "\n",
    "model_ann = mocap_functions.model_ann(input_size,output_size,layer_size).to(device)\n",
    "# Define Loss, Optimizerints h\n",
    "criterion = nn.MSELoss()\n",
    "optimizer = torch.optim.Adam(model_ann.parameters(), lr=lr, weight_decay=weight_decay)"
   ]
  },
  {
   "cell_type": "code",
   "execution_count": null,
   "metadata": {},
   "outputs": [],
   "source": [
    "#Train model\n",
    "loss_dict = mocap_functions.train_validate_model(model_ann, optimizer, criterion, max_epochs, training_generator, validation_generator, device, 10, 5)"
   ]
  },
  {
   "cell_type": "code",
   "execution_count": null,
   "metadata": {},
   "outputs": [],
   "source": [
    "#Evaluate trained model\n",
    "ann_train_pred = mocap_functions.evaluate_model(model_ann, training_eval_generator, device)\n",
    "ann_test_pred = mocap_functions.evaluate_model(model_ann, testing_generator, device)\n",
    "\n",
    "#Compute decoding performance\n",
    "ann_train_corr = mocap_functions.matrix_corr(ann_train_pred,y_train_data)\n",
    "ann_test_corr = mocap_functions.matrix_corr(ann_test_pred,y_test_data)\n"
   ]
  },
  {
   "cell_type": "markdown",
   "metadata": {},
   "source": [
    "Visualize Results"
   ]
  },
  {
   "cell_type": "code",
   "execution_count": null,
   "metadata": {},
   "outputs": [],
   "source": [
    "#Testing Data\n",
    "start=23\n",
    "plt.figure(figsize=(12,8))\n",
    "bounds = np.arange(1,2000)\n",
    "x_vals = np.arange(len(bounds)) / 100\n",
    "for plot_idx, unit_idx in enumerate(range(start, start+4)):\n",
    "    plt.subplot(2,2,plot_idx+1)\n",
    "    plt.plot(x_vals,y_test_data[bounds,unit_idx])\n",
    "    plt.plot(x_vals,kf_test_pred[bounds,unit_idx])\n",
    "    plt.plot(x_vals,ann_test_pred[bounds,unit_idx])\n",
    "    plt.title('Unit ' + str(unit_idx))\n",
    "    plt.xlabel('Time (s)')\n",
    "    plt.ylabel('Firing Rate (a.u.)')\n",
    "    if plot_idx==1:\n",
    "        plt.legend(['Real', 'KF', 'ANN'], loc=1)\n",
    "plt.tight_layout()"
   ]
  },
  {
   "cell_type": "code",
   "execution_count": null,
   "metadata": {},
   "outputs": [],
   "source": []
  }
 ],
 "metadata": {
  "kernelspec": {
   "display_name": "Python 3.9.12 ('base')",
   "language": "python",
   "name": "python3"
  },
  "language_info": {
   "codemirror_mode": {
    "name": "ipython",
    "version": 3
   },
   "file_extension": ".py",
   "mimetype": "text/x-python",
   "name": "python",
   "nbconvert_exporter": "python",
   "pygments_lexer": "ipython3",
   "version": "3.9.12"
  },
  "vscode": {
   "interpreter": {
    "hash": "d0efaeb1f57b331682f483338b2ece2b224a46046d22ccab062f7cb485953279"
   }
  }
 },
 "nbformat": 4,
 "nbformat_minor": 4
}
