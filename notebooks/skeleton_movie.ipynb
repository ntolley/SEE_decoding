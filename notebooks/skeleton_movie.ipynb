{
 "cells": [
  {
   "cell_type": "code",
   "execution_count": 1,
   "metadata": {},
   "outputs": [],
   "source": [
    "import sys\n",
    "sys.path.append('../code')\n",
    "import numpy as np\n",
    "import matplotlib.pyplot as plt\n",
    "from mpl_toolkits.mplot3d import Axes3D\n",
    "import mocap_functions\n",
    "import imageio\n",
    "import pandas as pd\n"
   ]
  },
  {
   "cell_type": "code",
   "execution_count": 2,
   "metadata": {},
   "outputs": [],
   "source": [
    "video_path = '../data/SPK20220308/motion_tracking'\n",
    "#dlc3d_fname = f'{video_path}/Spike03-08-1557_DLC3D_resnet50_DLCnetwork3D_Spike03-08-1557Sep7shuffle1_500000_AllCam.csv'\n",
    "dlc3d_fname = f'{video_path}/SpikeCam4_03-08-1557_DLC_resnet50_DLCnetwork3D_Spike03-08-1557Sep16shuffle2_710000_filtered.csv'\n",
    "eyes_path = f'{video_path}/SpikeCam5_EYES_03-08-1557DLC_resnet50_DLC-eyesNov4shuffle1_40000_el.csv'"
   ]
  },
  {
   "cell_type": "code",
   "execution_count": 3,
   "metadata": {},
   "outputs": [],
   "source": [
    "#cam3d_df = pd.read_csv(dlc3d_fname)\n",
    "p3ds = np.load('p3ds.npy')"
   ]
  },
  {
   "cell_type": "code",
   "execution_count": null,
   "metadata": {},
   "outputs": [],
   "source": []
  },
  {
   "cell_type": "code",
   "execution_count": 4,
   "metadata": {},
   "outputs": [],
   "source": [
    "bodyparts = ['thumbProx', 'thumbDistal', 'thumbtip', 'indexProx', 'indexMid', 'indexDistal', 'indextip',\n",
    "             'middleProx', 'middleMid', 'middleDistal', 'middleTip', 'ringProx', 'ringMid', 'ringDistal',\n",
    "             'ringTip', 'pinkyProx', 'pinkyMid', 'pinkyDistal', 'pinkyTip', 'carpal', 'radiusProx',\n",
    "             'radiusDistal', 'ulnarProx', 'ulnarDistal', 'cubitalFossa', 'boltMedial', 'boltLateral', 'boltEdge']\n",
    "scheme = [['carpal', 'thumbProx'], ['thumbProx', 'thumbDistal'], ['thumbDistal', 'thumbtip'], \n",
    "            ['carpal', 'indexProx'], ['indexProx', 'indexMid'], ['indexMid', 'indexDistal'], ['indexDistal', 'indextip'],\n",
    "            ['carpal', 'middleProx'], ['middleProx', 'middleMid'], ['middleMid', 'middleDistal'], ['middleDistal', 'middleTip'],\n",
    "            ['carpal', 'ringProx'], ['ringProx', 'ringMid'], ['ringMid', 'ringDistal'], ['ringDistal', 'ringTip'],\n",
    "            ['carpal', 'pinkyProx'], ['pinkyProx', 'pinkyMid'], ['pinkyMid', 'pinkyDistal'], ['pinkyDistal', 'pinkyTip'],\n",
    "            ['radiusDistal', 'carpal'], ['radiusProx', 'radiusDistal'], ['ulnarDistal', 'carpal'], ['ulnarProx', 'ulnarDistal'],\n",
    "            ['ulnarProx', 'radiusProx']]"
   ]
  },
  {
   "cell_type": "code",
   "execution_count": 5,
   "metadata": {},
   "outputs": [
    {
     "name": "stdout",
     "output_type": "stream",
     "text": [
      "0 1 2 3 4 5 6 7 8 9 10 11 12 13 14 15 16 17 18 19 20 21 22 23 24 25 26 27 28 29 30 31 32 33 34 35 36 37 38 39 40 41 42 43 44 45 46 47 48 49 50 51 52 53 54 55 56 57 58 59 60 61 62 63 64 65 66 67 68 69 70 71 72 73 74 75 76 77 78 79 80 81 82 83 84 85 86 87 88 89 90 91 92 93 94 95 96 97 98 99 100 101 102 103 104 105 106 107 108 109 110 111 112 113 114 115 116 117 118 119 120 121 122 123 124 125 126 127 128 129 130 131 132 133 134 135 136 137 138 139 140 141 142 143 144 145 146 147 148 149 150 151 152 153 154 155 156 157 158 159 160 161 162 163 164 165 166 167 168 169 170 171 172 173 174 175 176 177 178 179 180 181 182 183 184 185 186 187 188 189 190 191 192 193 194 195 196 197 198 199 200 201 202 203 204 205 206 207 208 209 210 211 212 213 214 215 216 217 218 219 220 221 222 223 224 225 226 227 228 229 230 231 232 233 234 235 236 237 238 239 240 241 242 243 244 245 246 247 248 249 250 251 252 253 254 255 256 257 258 259 260 261 262 263 264 265 266 267 268 269 270 271 272 273 274 275 276 277 278 279 280 281 282 283 284 285 286 287 288 289 290 291 292 293 294 295 296 297 298 299 300 301 302 303 304 305 306 307 308 309 310 311 312 313 314 315 316 317 318 319 320 321 322 323 324 325 326 327 328 329 330 331 332 333 334 335 336 337 338 339 340 341 342 343 344 345 346 347 348 349 350 351 352 353 354 355 356 357 358 359 360 361 362 363 364 365 366 367 368 369 370 371 372 373 374 375 376 377 378 379 380 381 382 383 384 385 386 387 388 389 390 391 392 393 394 395 396 397 398 399 400 401 402 403 404 405 406 407 408 409 410 411 412 413 414 415 416 417 418 419 420 421 422 423 424 425 426 427 428 429 430 431 432 433 434 435 436 437 438 439 440 441 442 443 444 445 446 447 448 449 450 451 452 453 454 455 456 457 458 459 460 461 462 463 464 465 466 467 468 469 470 471 472 473 474 475 476 477 478 479 480 481 482 483 484 485 486 487 488 489 490 491 492 493 494 495 496 497 498 499 500 501 502 503 504 505 506 507 508 509 510 511 512 513 514 515 516 517 518 "
     ]
    }
   ],
   "source": [
    "## plot the first frame in 3D\n",
    "from mpl_toolkits.mplot3d import Axes3D\n",
    "from matplotlib.pyplot import get_cmap\n",
    "\n",
    "def connect(ax, points, bps, bp_dict, color):\n",
    "    ixs = [bp_dict[bp] for bp in bps]\n",
    "    return ax.plot(points[ixs, 0], -points[ixs, 1], points[ixs, 2], color=color)\n",
    "\n",
    "def connect_all(ax, points, scheme, bodyparts, cmap=None):\n",
    "    if cmap is None:\n",
    "        cmap = get_cmap('tab10')\n",
    "    bp_dict = dict(zip(bodyparts, range(len(bodyparts))))\n",
    "    lines = []\n",
    "    for i, bps in enumerate(scheme):\n",
    "        line = connect(ax, points, bps, bp_dict, color=cmap(i)[:3])\n",
    "        lines.append(line)\n",
    "    return lines\n",
    "\n",
    "\n",
    "scheme = [['carpal', 'thumbProx'], ['thumbProx', 'thumbDistal'], ['thumbDistal', 'thumbtip'], \n",
    "            ['carpal', 'indexProx'], ['indexProx', 'indexMid'], ['indexMid', 'indexDistal'], ['indexDistal', 'indextip'],\n",
    "            ['carpal', 'middleProx'], ['middleProx', 'middleMid'], ['middleMid', 'middleDistal'], ['middleDistal', 'middleTip'],\n",
    "            ['carpal', 'ringProx'], ['ringProx', 'ringMid'], ['ringMid', 'ringDistal'], ['ringDistal', 'ringTip'],\n",
    "            ['carpal', 'pinkyProx'], ['pinkyProx', 'pinkyMid'], ['pinkyMid', 'pinkyDistal'], ['pinkyDistal', 'pinkyTip'],\n",
    "            ['radiusDistal', 'carpal'], ['radiusProx', 'radiusDistal'], ['ulnarDistal', 'carpal'], ['ulnarProx', 'ulnarDistal'],\n",
    "            ['ulnarProx', 'radiusProx']]\n",
    "\n",
    "\n",
    "for framenum in range(1000):\n",
    "    p3d = p3ds[framenum]\n",
    "    fig = plt.figure(figsize=(10,10))\n",
    "    ax = fig.add_subplot(111, projection='3d')\n",
    "    ax.scatter(p3d[:,0], -p3d[:,1], p3d[:,2], c='black', s=100)\n",
    "    connect_all(ax, p3d, scheme, bodyparts)\n",
    "    ax.set_xlim([0, 50])\n",
    "    ax.set_ylim([0, 50])\n",
    "    ax.set_zlim([0, 50])\n",
    "\n",
    "    plt.draw()\n",
    "    #plt.show(block=False)\n",
    "    plt.savefig(f'../data/SPK20220308/skeleton_frames/frame{framenum}.png')\n",
    "    print(framenum, end=' ')\n",
    "    plt.close()\n",
    "\n"
   ]
  },
  {
   "cell_type": "code",
   "execution_count": null,
   "metadata": {},
   "outputs": [],
   "source": []
  },
  {
   "cell_type": "code",
   "execution_count": 27,
   "metadata": {},
   "outputs": [
    {
     "name": "stdout",
     "output_type": "stream",
     "text": [
      "0 1 2 3 4 5 6 7 8 9 10 11 12 13 14 15 16 17 18 19 20 21 22 23 24 25 26 27 28 29 30 31 32 33 34 35 36 37 38 39 40 41 42 43 44 45 46 47 48 49 50 51 52 53 54 55 56 57 58 59 60 61 62 63 64 65 66 67 68 69 70 71 72 73 74 75 76 77 78 79 80 81 82 83 84 85 86 87 88 89 90 91 92 93 94 95 96 97 98 99 100 101 102 103 104 105 106 107 108 109 110 111 112 113 114 115 116 117 118 119 120 121 122 123 124 125 126 127 128 129 130 131 132 133 134 135 136 137 138 139 140 141 142 143 144 145 146 147 148 149 150 151 152 153 154 155 156 157 158 159 160 161 162 163 164 165 166 167 168 169 170 171 172 173 174 175 176 177 178 179 180 181 182 183 184 185 186 187 188 189 190 191 192 193 194 195 196 197 198 199 200 201 202 203 204 205 206 207 208 209 210 211 212 213 214 215 216 217 218 219 220 221 222 223 224 225 226 227 228 229 230 231 232 233 234 235 236 237 238 239 240 241 242 243 244 245 246 247 248 249 250 251 252 253 254 255 256 257 258 259 260 261 262 263 264 265 266 267 268 269 270 271 272 273 274 275 276 277 278 279 280 281 282 283 284 285 286 287 288 289 290 291 292 293 294 295 296 297 298 299 "
     ]
    }
   ],
   "source": [
    "# width = 7000\n",
    "# for idx in range(300):\n",
    "#     frame_idx = idx + 300\n",
    "#     fig = plt.figure(figsize=(10,10))\n",
    "#     ax = fig.add_subplot(projection='3d')\n",
    "#     for (seg_start, seg_end) in skeleton:\n",
    "#         # Extract x\n",
    "#         seg_start_x = cam3d_df[f'{seg_start}_x'].values[frame_idx]\n",
    "#         seg_start_y = cam3d_df[f'{seg_start}_y'].values[frame_idx]\n",
    "#         seg_start_z = cam3d_df[f'{seg_start}_z'].values[frame_idx]\n",
    "\n",
    "#         seg_end_x = cam3d_df[f'{seg_end}_x'].values[frame_idx]\n",
    "#         seg_end_y = cam3d_df[f'{seg_end}_y'].values[frame_idx]\n",
    "#         seg_end_z = cam3d_df[f'{seg_end}_z'].values[frame_idx]\n",
    "\n",
    "#         x_data = [seg_start_x, seg_end_x]\n",
    "#         y_data = [seg_start_y, seg_end_y]\n",
    "#         z_data = [seg_start_z, seg_end_z]\n",
    "\n",
    "#         ax.plot(x_data, y_data, z_data)\n",
    "\n",
    "#         ax.set_xlim(-14_000 , -14_000 + width)\n",
    "#         ax.set_ylim(12000, 12000 + width)\n",
    "#         ax.set_zlim(-11_000, -11_000 + width)\n",
    "\n",
    "#     fig.savefig(f'../data/SPK20220308/frames/frame{idx}.png')\n",
    "#     plt.close()\n",
    "#     print(idx, end=' ')"
   ]
  },
  {
   "cell_type": "code",
   "execution_count": 5,
   "metadata": {},
   "outputs": [],
   "source": [
    "def make_movie(image_folder, output_name, images, fps=30, quality=10):\n",
    "    \"\"\"Turn folder of images into movie.\n",
    "    Parameters\n",
    "    ----------\n",
    "    image_folder : str\n",
    "        Path where images are stored.\n",
    "    output_name : str\n",
    "        Name of video file.\n",
    "    images : list of str\n",
    "        File names of images stored in `image_folder`.\n",
    "        Order of images determines sequence of frames.\n",
    "    fps : int | None\n",
    "        Frames per second. Default: 30.\n",
    "    quality : int | None\n",
    "        Quality of output video. Default: 10.\n",
    "    \"\"\"\n",
    "    writer = imageio.get_writer(output_name, fps=fps, quality=quality)\n",
    "    for filename in images:\n",
    "        image_path = str(image_folder) + str(filename)\n",
    "        writer.append_data(imageio.imread(image_path))\n",
    "    writer.close()"
   ]
  },
  {
   "cell_type": "code",
   "execution_count": 6,
   "metadata": {},
   "outputs": [],
   "source": [
    "images = [f'frame{idx}.png' for idx in range(500)]\n",
    "make_movie('../data/SPK20220308/skeleton_frames/', 'reach_movie.mp4', images, fps=30, quality=10)"
   ]
  },
  {
   "cell_type": "code",
   "execution_count": null,
   "metadata": {},
   "outputs": [],
   "source": []
  },
  {
   "cell_type": "code",
   "execution_count": 2,
   "metadata": {},
   "outputs": [],
   "source": [
    "kinematic_df, neural_df, metadata = mocap_functions.load_mocap_df('../data/SPK20220308/task_data/')\n",
    "marker_3d_mask = kinematic_df['name'].str.endswith('z')\n",
    "marker_names = np.unique(kinematic_df[marker_3d_mask]['name'].str[:-2])\n"
   ]
  },
  {
   "cell_type": "code",
   "execution_count": 18,
   "metadata": {},
   "outputs": [],
   "source": [
    "trial = 5\n",
    "\n",
    "position_list = list()\n",
    "for marker in marker_names:\n",
    "    marker_data = list()\n",
    "    for dim in ['x', 'y', 'z']:\n",
    "        df_mask = np.logical_and(\n",
    "            kinematic_df['trial'] == trial, kinematic_df['name'] == f'{marker}_{dim}')\n",
    "        marker_data.append(kinematic_df[df_mask]['posData'].values[0])\n",
    "    \n",
    "    position_list.append(np.vstack(marker_data).T)\n",
    "\n",
    "positions = np.dstack(position_list).transpose((0,2,1))\n",
    "xmin, xmax = np.min(positions[:, :, 0]), np.max(positions[:, :, 0])\n",
    "ymin, ymax = np.min(positions[:, :, 1]), np.max(positions[:, :, 1])\n",
    "zmin, zmax = np.min(positions[:, :, 2]), np.max(positions[:, :, 2])"
   ]
  },
  {
   "cell_type": "code",
   "execution_count": 33,
   "metadata": {},
   "outputs": [],
   "source": [
    "num_timesteps, num_points, _ = positions.shape\n",
    "width = 20_000\n",
    "for idx in range(num_timesteps):\n",
    "    fig = plt.figure(figsize=(5,5))\n",
    "    ax = fig.add_subplot(111, projection='3d')\n",
    "    ax.scatter(positions[idx, :, 0], positions[idx, :, 1], positions[idx, :, 2])\n",
    "    ax.set_xlim(-10_000 , -20_000 + width)\n",
    "    ax.set_ylim(3000, 3000 + width)\n",
    "    ax.set_zlim(-15_000, -15_000 + width)\n",
    "\n",
    "    fig.savefig(f'../data/SPK20220308/frames/frame{idx}.png')\n",
    "    plt.close()\n"
   ]
  },
  {
   "cell_type": "code",
   "execution_count": 7,
   "metadata": {},
   "outputs": [
    {
     "data": {
      "text/plain": [
       "(300, 24, 3)"
      ]
     },
     "execution_count": 7,
     "metadata": {},
     "output_type": "execute_result"
    }
   ],
   "source": [
    "positions.shape\n"
   ]
  },
  {
   "cell_type": "code",
   "execution_count": null,
   "metadata": {},
   "outputs": [],
   "source": []
  },
  {
   "cell_type": "code",
   "execution_count": 31,
   "metadata": {},
   "outputs": [
    {
     "data": {
      "text/plain": [
       "(-15000.0, 5000.0)"
      ]
     },
     "execution_count": 31,
     "metadata": {},
     "output_type": "execute_result"
    },
    {
     "data": {
      "image/png": "[encoded data removed]",
      "text/plain": [
       "<Figure size 360x360 with 1 Axes>"
      ]
     },
     "metadata": {
      "needs_background": "light"
     },
     "output_type": "display_data"
    }
   ],
   "source": [
    "width = 20_000\n",
    "fig = plt.figure(figsize=(5,5))\n",
    "ax = fig.add_subplot(111, projection='3d')\n",
    "ax.scatter(positions[idx, :, 0], positions[idx, :, 1], positions[idx, :, 2])\n"
   ]
  },
  {
   "cell_type": "code",
   "execution_count": null,
   "metadata": {},
   "outputs": [],
   "source": []
  }
 ],
 "metadata": {
  "kernelspec": {
   "display_name": "Python 3.9.12 ('base')",
   "language": "python",
   "name": "python3"
  },
  "language_info": {
   "codemirror_mode": {
    "name": "ipython",
    "version": 3
   },
   "file_extension": ".py",
   "mimetype": "text/x-python",
   "name": "python",
   "nbconvert_exporter": "python",
   "pygments_lexer": "ipython3",
   "version": "3.9.12"
  },
  "orig_nbformat": 4,
  "vscode": {
   "interpreter": {
    "hash": "d0efaeb1f57b331682f483338b2ece2b224a46046d22ccab062f7cb485953279"
   }
  }
 },
 "nbformat": 4,
 "nbformat_minor": 2
}
